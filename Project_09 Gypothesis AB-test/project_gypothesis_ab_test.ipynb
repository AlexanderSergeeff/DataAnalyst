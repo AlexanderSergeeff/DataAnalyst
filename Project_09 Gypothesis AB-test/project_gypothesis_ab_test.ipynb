{
 "cells": [
  {
   "cell_type": "markdown",
   "id": "d9adc9af",
   "metadata": {},
   "source": [
    "# Проект по проверке статистических гипотез и проведению А/В теста"
   ]
  },
  {
   "cell_type": "markdown",
   "id": "5e7b002f",
   "metadata": {},
   "source": [
    "**Описание проекта:**"
   ]
  },
  {
   "cell_type": "markdown",
   "id": "3daa8ebf",
   "metadata": {},
   "source": [
    "Вы — аналитик крупного интернет-магазина. Вместе с отделом маркетинга вы подготовили список гипотез для увеличения выручки."
   ]
  },
  {
   "cell_type": "markdown",
   "id": "5be6ef14",
   "metadata": {},
   "source": [
    "В распоряжении следующие данные:\n",
    "- файл с гипотезами по увеличению выручки интернет-магазина с указанными параметрами Reach, Impact, Confidence, Effort;\n",
    "- файлы с данными для проведения А/В тестирования;"
   ]
  },
  {
   "cell_type": "markdown",
   "id": "ccd23dd1",
   "metadata": {},
   "source": [
    "**Цель проекта:**"
   ]
  },
  {
   "cell_type": "markdown",
   "id": "34100d31",
   "metadata": {},
   "source": [
    "Приоритизировать гипотезы, запустить A/B-тест и проанализировать результаты."
   ]
  },
  {
   "cell_type": "markdown",
   "id": "7c02caa8",
   "metadata": {},
   "source": [
    "**Ход исследования:**"
   ]
  },
  {
   "cell_type": "markdown",
   "id": "d5504b6e",
   "metadata": {},
   "source": [
    "Приоритизация гипотез\n",
    "\n",
    "- применить фреймворк ICE для приоритизации гипотез. Отсортировать их по убыванию приоритета;\n",
    "- применить фреймворк RICE для приоритизации гипотез. Отсортировать их по убыванию приоритета;\n",
    "\n",
    "Анализ A/B-теста\n",
    "\n",
    "- построить график кумулятивной выручки по группам. Сделать выводы и предположения;\n",
    "- построить график кумулятивного среднего чека по группам. Сделать выводы и предположения;\n",
    "- построить график относительного изменения кумулятивного среднего чека группы B к группе A. Сделать выводы и предположения;\n",
    "- построить график кумулятивной конверсии по группам. Сделать выводы и предположения;\n",
    "- построить график относительного изменения кумулятивной конверсии группы B к группе A. Сделать выводы и предположения.\n",
    "- построить точечный график количества заказов по пользователям. Сделать выводы и предположения;\n",
    "- посчитать 95-й и 99-й перцентили количества заказов на пользователя. Выбрать границу для определения аномальных пользователей;\n",
    "- построить точечный график стоимостей заказов. Сделать выводы и предположения;\n",
    "- посчитать 95-й и 99-й перцентили стоимости заказов. Выбрать границу для определения аномальных заказов;\n",
    "- посчитать статистическую значимость различий в конверсии между группами по «сырым» данным. Сделать выводы и предположения;\n",
    "- посчитать статистическую значимость различий в среднем чеке заказа между группами по «сырым» данным. Сделать выводы и предположения;\n",
    "- посчитать статистическую значимость различий в конверсии между группами по «очищенным» данным. Сделать выводы и предположения;\n",
    "- посчитать статистическую значимость различий в среднем чеке заказа между группами по «очищенным» данным. Сделать выводы и предположения;"
   ]
  },
  {
   "cell_type": "markdown",
   "id": "8452911e",
   "metadata": {
    "toc": true
   },
   "source": [
    "<h1>Содержание<span class=\"tocSkip\"></span></h1>\n",
    "<div class=\"toc\"><ul class=\"toc-item\"><li><span><a href=\"#Подготовка-данных-и-изучение-общей-информации\" data-toc-modified-id=\"Подготовка-данных-и-изучение-общей-информации-1\"><span class=\"toc-item-num\">1&nbsp;&nbsp;</span>Подготовка данных и изучение общей информации</a></span><ul class=\"toc-item\"><li><span><a href=\"#Импортируем-необходимые-библиотеки-и-прочитаем-файлы\" data-toc-modified-id=\"Импортируем-необходимые-библиотеки-и-прочитаем-файлы-1.1\"><span class=\"toc-item-num\">1.1&nbsp;&nbsp;</span>Импортируем необходимые библиотеки и прочитаем файлы</a></span></li><li><span><a href=\"#Ознакомимся-с-данными\" data-toc-modified-id=\"Ознакомимся-с-данными-1.2\"><span class=\"toc-item-num\">1.2&nbsp;&nbsp;</span>Ознакомимся с данными</a></span></li><li><span><a href=\"#Изучим-общую-информацию-о-датасетах\" data-toc-modified-id=\"Изучим-общую-информацию-о-датасетах-1.3\"><span class=\"toc-item-num\">1.3&nbsp;&nbsp;</span>Изучим общую информацию о датасетах</a></span></li><li><span><a href=\"#Приведение-названий-столбцов-к-нижнему-регистру\" data-toc-modified-id=\"Приведение-названий-столбцов-к-нижнему-регистру-1.4\"><span class=\"toc-item-num\">1.4&nbsp;&nbsp;</span>Приведение названий столбцов к нижнему регистру</a></span></li><li><span><a href=\"#Работа-с-пропусками-в-данных\" data-toc-modified-id=\"Работа-с-пропусками-в-данных-1.5\"><span class=\"toc-item-num\">1.5&nbsp;&nbsp;</span>Работа с пропусками в данных</a></span></li><li><span><a href=\"#Поиск-дубликатов\" data-toc-modified-id=\"Поиск-дубликатов-1.6\"><span class=\"toc-item-num\">1.6&nbsp;&nbsp;</span>Поиск дубликатов</a></span></li><li><span><a href=\"#Изменение-типа-данных\" data-toc-modified-id=\"Изменение-типа-данных-1.7\"><span class=\"toc-item-num\">1.7&nbsp;&nbsp;</span>Изменение типа данных</a></span></li></ul></li><li><span><a href=\"#Приоритизация-гипотез\" data-toc-modified-id=\"Приоритизация-гипотез-2\"><span class=\"toc-item-num\">2&nbsp;&nbsp;</span>Приоритизация гипотез</a></span></li><li><span><a href=\"#Анализ-A/B-теста\" data-toc-modified-id=\"Анализ-A/B-теста-3\"><span class=\"toc-item-num\">3&nbsp;&nbsp;</span>Анализ A/B-теста</a></span><ul class=\"toc-item\"><li><span><a href=\"#График-кумулятивной-выручки\" data-toc-modified-id=\"График-кумулятивной-выручки-3.1\"><span class=\"toc-item-num\">3.1&nbsp;&nbsp;</span>График кумулятивной выручки</a></span></li><li><span><a href=\"#График-кумулятивного-среднего-чека\" data-toc-modified-id=\"График-кумулятивного-среднего-чека-3.2\"><span class=\"toc-item-num\">3.2&nbsp;&nbsp;</span>График кумулятивного среднего чека</a></span></li><li><span><a href=\"#График-относительного-изменения-кумулятивного-среднего-чека-группы-B-к-группе-A\" data-toc-modified-id=\"График-относительного-изменения-кумулятивного-среднего-чека-группы-B-к-группе-A-3.3\"><span class=\"toc-item-num\">3.3&nbsp;&nbsp;</span>График относительного изменения кумулятивного среднего чека группы B к группе A</a></span></li><li><span><a href=\"#График-кумулятивной-конверсии\" data-toc-modified-id=\"График-кумулятивной-конверсии-3.4\"><span class=\"toc-item-num\">3.4&nbsp;&nbsp;</span>График кумулятивной конверсии</a></span></li><li><span><a href=\"#График-относительного-изменения-кумулятивной-конверсии\" data-toc-modified-id=\"График-относительного-изменения-кумулятивной-конверсии-3.5\"><span class=\"toc-item-num\">3.5&nbsp;&nbsp;</span>График относительного изменения кумулятивной конверсии</a></span></li><li><span><a href=\"#Точечный-график-количества-заказов-по-пользователям\" data-toc-modified-id=\"Точечный-график-количества-заказов-по-пользователям-3.6\"><span class=\"toc-item-num\">3.6&nbsp;&nbsp;</span>Точечный график количества заказов по пользователям</a></span></li><li><span><a href=\"#Граница-заказов-для-определения-аномальных-пользователей\" data-toc-modified-id=\"Граница-заказов-для-определения-аномальных-пользователей-3.7\"><span class=\"toc-item-num\">3.7&nbsp;&nbsp;</span>Граница заказов для определения аномальных пользователей</a></span></li><li><span><a href=\"#График-стоимости-заказов\" data-toc-modified-id=\"График-стоимости-заказов-3.8\"><span class=\"toc-item-num\">3.8&nbsp;&nbsp;</span>График стоимости заказов</a></span></li><li><span><a href=\"#Граница-для-определения-аномальных-заказов-по-выручке\" data-toc-modified-id=\"Граница-для-определения-аномальных-заказов-по-выручке-3.9\"><span class=\"toc-item-num\">3.9&nbsp;&nbsp;</span>Граница для определения аномальных заказов по выручке</a></span></li><li><span><a href=\"#Cтатистическая-значимость-различий-в-конверсии-между-группами-по-«сырым»-данным\" data-toc-modified-id=\"Cтатистическая-значимость-различий-в-конверсии-между-группами-по-«сырым»-данным-3.10\"><span class=\"toc-item-num\">3.10&nbsp;&nbsp;</span>Cтатистическая значимость различий в конверсии между группами по «сырым» данным</a></span></li><li><span><a href=\"#Статистическая-значимость-различий-в-среднем-чеке-заказа-между-группами-по-«сырым»-данным\" data-toc-modified-id=\"Статистическая-значимость-различий-в-среднем-чеке-заказа-между-группами-по-«сырым»-данным-3.11\"><span class=\"toc-item-num\">3.11&nbsp;&nbsp;</span>Статистическая значимость различий в среднем чеке заказа между группами по «сырым» данным</a></span></li><li><span><a href=\"#Cтатистическая-значимость-различий-в-конверсии-между-группами-по-«очищенным»-данным\" data-toc-modified-id=\"Cтатистическая-значимость-различий-в-конверсии-между-группами-по-«очищенным»-данным-3.12\"><span class=\"toc-item-num\">3.12&nbsp;&nbsp;</span>Cтатистическая значимость различий в конверсии между группами по «очищенным» данным</a></span></li><li><span><a href=\"#Статистическая-значимость-различий-в-среднем-чеке-заказа-между-группами-по-«очищенным»-данным\" data-toc-modified-id=\"Статистическая-значимость-различий-в-среднем-чеке-заказа-между-группами-по-«очищенным»-данным-3.13\"><span class=\"toc-item-num\">3.13&nbsp;&nbsp;</span>Статистическая значимость различий в среднем чеке заказа между группами по «очищенным» данным</a></span></li></ul></li><li><span><a href=\"#Итоговый-вывод\" data-toc-modified-id=\"Итоговый-вывод-4\"><span class=\"toc-item-num\">4&nbsp;&nbsp;</span>Итоговый вывод</a></span><ul class=\"toc-item\"><li><span><a href=\"#Этапы-исследования\" data-toc-modified-id=\"Этапы-исследования-4.1\"><span class=\"toc-item-num\">4.1&nbsp;&nbsp;</span>Этапы исследования</a></span><ul class=\"toc-item\"><li><span><a href=\"#Блок-по-подготовке-данных:\" data-toc-modified-id=\"Блок-по-подготовке-данных:-4.1.1\"><span class=\"toc-item-num\">4.1.1&nbsp;&nbsp;</span>Блок по подготовке данных:</a></span></li><li><span><a href=\"#Приоритезации-гипотез:\" data-toc-modified-id=\"Приоритезации-гипотез:-4.1.2\"><span class=\"toc-item-num\">4.1.2&nbsp;&nbsp;</span>Приоритезации гипотез:</a></span></li><li><span><a href=\"#Блок-проведения-А/В-теста:\" data-toc-modified-id=\"Блок-проведения-А/В-теста:-4.1.3\"><span class=\"toc-item-num\">4.1.3&nbsp;&nbsp;</span>Блок проведения А/В-теста:</a></span></li></ul></li></ul></li></ul></div>"
   ]
  },
  {
   "cell_type": "markdown",
   "id": "6413c21b",
   "metadata": {},
   "source": [
    " "
   ]
  },
  {
   "cell_type": "markdown",
   "id": "4e869d17",
   "metadata": {
    "tags": [
     "tag1"
    ]
   },
   "source": [
    "## Подготовка данных и изучение общей информации"
   ]
  },
  {
   "cell_type": "markdown",
   "id": "d00a5138",
   "metadata": {},
   "source": [
    "### Импортируем необходимые библиотеки и прочитаем файлы"
   ]
  },
  {
   "cell_type": "code",
   "execution_count": 1,
   "id": "75c852d3",
   "metadata": {},
   "outputs": [],
   "source": [
    "#Импортируем библиотеки\n",
    "\n",
    "import pandas as pd\n",
    "import numpy as np\n",
    "from datetime import datetime as dt\n",
    "from matplotlib import pyplot as plt\n",
    "import seaborn as sns\n",
    "import scipy.stats as stats"
   ]
  },
  {
   "cell_type": "code",
   "execution_count": 2,
   "id": "e0c75cc5",
   "metadata": {},
   "outputs": [],
   "source": [
    "#Применим метод read_csv для чтения датасетов\n",
    "\n",
    "try:\n",
    "    hypothesis = pd.read_csv('C:\\\\Users\\\\Alexander\\\\Desktop\\\\Обучение ЯП\\\\Шпаргалки по темам\\\\8.ОСновы принятий решений\\\\проект\\\\hypothesis.csv')\n",
    "    orders = pd.read_csv('C:\\\\Users\\\\Alexander\\\\Desktop\\\\Обучение ЯП\\\\Шпаргалки по темам\\\\8.ОСновы принятий решений\\\\проект\\\\orders.csv')\n",
    "    visitors = pd.read_csv('C:\\\\Users\\\\Alexander\\\\Desktop\\\\Обучение ЯП\\\\Шпаргалки по темам\\\\8.ОСновы принятий решений\\\\проект\\\\visitors.csv')\n",
    "except:\n",
    "    hypothesis = pd.read_csv('/datasets/hypothesis.csv')\n",
    "    orders = pd.read_csv('/datasets/orders.csv')\n",
    "    visitors = pd.read_csv('/datasets/visitors.csv')   "
   ]
  },
  {
   "cell_type": "markdown",
   "id": "51a733ef",
   "metadata": {},
   "source": [
    "### Ознакомимся с данными"
   ]
  },
  {
   "cell_type": "code",
   "execution_count": 3,
   "id": "70049e17",
   "metadata": {},
   "outputs": [
    {
     "data": {
      "text/html": [
       "<div>\n",
       "<style scoped>\n",
       "    .dataframe tbody tr th:only-of-type {\n",
       "        vertical-align: middle;\n",
       "    }\n",
       "\n",
       "    .dataframe tbody tr th {\n",
       "        vertical-align: top;\n",
       "    }\n",
       "\n",
       "    .dataframe thead th {\n",
       "        text-align: right;\n",
       "    }\n",
       "</style>\n",
       "<table border=\"1\" class=\"dataframe\">\n",
       "  <thead>\n",
       "    <tr style=\"text-align: right;\">\n",
       "      <th></th>\n",
       "      <th>Hypothesis</th>\n",
       "      <th>Reach</th>\n",
       "      <th>Impact</th>\n",
       "      <th>Confidence</th>\n",
       "      <th>Efforts</th>\n",
       "    </tr>\n",
       "  </thead>\n",
       "  <tbody>\n",
       "    <tr>\n",
       "      <th>0</th>\n",
       "      <td>Добавить два новых канала привлечения трафика,...</td>\n",
       "      <td>3</td>\n",
       "      <td>10</td>\n",
       "      <td>8</td>\n",
       "      <td>6</td>\n",
       "    </tr>\n",
       "    <tr>\n",
       "      <th>1</th>\n",
       "      <td>Запустить собственную службу доставки, что сок...</td>\n",
       "      <td>2</td>\n",
       "      <td>5</td>\n",
       "      <td>4</td>\n",
       "      <td>10</td>\n",
       "    </tr>\n",
       "    <tr>\n",
       "      <th>2</th>\n",
       "      <td>Добавить блоки рекомендаций товаров на сайт ин...</td>\n",
       "      <td>8</td>\n",
       "      <td>3</td>\n",
       "      <td>7</td>\n",
       "      <td>3</td>\n",
       "    </tr>\n",
       "    <tr>\n",
       "      <th>3</th>\n",
       "      <td>Изменить структура категорий, что увеличит кон...</td>\n",
       "      <td>8</td>\n",
       "      <td>3</td>\n",
       "      <td>3</td>\n",
       "      <td>8</td>\n",
       "    </tr>\n",
       "    <tr>\n",
       "      <th>4</th>\n",
       "      <td>Изменить цвет фона главной страницы, чтобы уве...</td>\n",
       "      <td>3</td>\n",
       "      <td>1</td>\n",
       "      <td>1</td>\n",
       "      <td>1</td>\n",
       "    </tr>\n",
       "    <tr>\n",
       "      <th>5</th>\n",
       "      <td>Добавить страницу отзывов клиентов о магазине,...</td>\n",
       "      <td>3</td>\n",
       "      <td>2</td>\n",
       "      <td>2</td>\n",
       "      <td>3</td>\n",
       "    </tr>\n",
       "    <tr>\n",
       "      <th>6</th>\n",
       "      <td>Показать на главной странице баннеры с актуаль...</td>\n",
       "      <td>5</td>\n",
       "      <td>3</td>\n",
       "      <td>8</td>\n",
       "      <td>3</td>\n",
       "    </tr>\n",
       "    <tr>\n",
       "      <th>7</th>\n",
       "      <td>Добавить форму подписки на все основные страни...</td>\n",
       "      <td>10</td>\n",
       "      <td>7</td>\n",
       "      <td>8</td>\n",
       "      <td>5</td>\n",
       "    </tr>\n",
       "    <tr>\n",
       "      <th>8</th>\n",
       "      <td>Запустить акцию, дающую скидку на товар в день...</td>\n",
       "      <td>1</td>\n",
       "      <td>9</td>\n",
       "      <td>9</td>\n",
       "      <td>5</td>\n",
       "    </tr>\n",
       "  </tbody>\n",
       "</table>\n",
       "</div>"
      ],
      "text/plain": [
       "                                          Hypothesis  Reach  Impact  \\\n",
       "0  Добавить два новых канала привлечения трафика,...      3      10   \n",
       "1  Запустить собственную службу доставки, что сок...      2       5   \n",
       "2  Добавить блоки рекомендаций товаров на сайт ин...      8       3   \n",
       "3  Изменить структура категорий, что увеличит кон...      8       3   \n",
       "4  Изменить цвет фона главной страницы, чтобы уве...      3       1   \n",
       "5  Добавить страницу отзывов клиентов о магазине,...      3       2   \n",
       "6  Показать на главной странице баннеры с актуаль...      5       3   \n",
       "7  Добавить форму подписки на все основные страни...     10       7   \n",
       "8  Запустить акцию, дающую скидку на товар в день...      1       9   \n",
       "\n",
       "   Confidence  Efforts  \n",
       "0           8        6  \n",
       "1           4       10  \n",
       "2           7        3  \n",
       "3           3        8  \n",
       "4           1        1  \n",
       "5           2        3  \n",
       "6           8        3  \n",
       "7           8        5  \n",
       "8           9        5  "
      ]
     },
     "execution_count": 3,
     "metadata": {},
     "output_type": "execute_result"
    }
   ],
   "source": [
    "#Выведем весь датасет\n",
    "\n",
    "hypothesis"
   ]
  },
  {
   "cell_type": "code",
   "execution_count": 4,
   "id": "19e5b61b",
   "metadata": {},
   "outputs": [
    {
     "data": {
      "text/html": [
       "<div>\n",
       "<style scoped>\n",
       "    .dataframe tbody tr th:only-of-type {\n",
       "        vertical-align: middle;\n",
       "    }\n",
       "\n",
       "    .dataframe tbody tr th {\n",
       "        vertical-align: top;\n",
       "    }\n",
       "\n",
       "    .dataframe thead th {\n",
       "        text-align: right;\n",
       "    }\n",
       "</style>\n",
       "<table border=\"1\" class=\"dataframe\">\n",
       "  <thead>\n",
       "    <tr style=\"text-align: right;\">\n",
       "      <th></th>\n",
       "      <th>transactionId</th>\n",
       "      <th>visitorId</th>\n",
       "      <th>date</th>\n",
       "      <th>revenue</th>\n",
       "      <th>group</th>\n",
       "    </tr>\n",
       "  </thead>\n",
       "  <tbody>\n",
       "    <tr>\n",
       "      <th>0</th>\n",
       "      <td>3667963787</td>\n",
       "      <td>3312258926</td>\n",
       "      <td>2019-08-15</td>\n",
       "      <td>1650</td>\n",
       "      <td>B</td>\n",
       "    </tr>\n",
       "    <tr>\n",
       "      <th>1</th>\n",
       "      <td>2804400009</td>\n",
       "      <td>3642806036</td>\n",
       "      <td>2019-08-15</td>\n",
       "      <td>730</td>\n",
       "      <td>B</td>\n",
       "    </tr>\n",
       "    <tr>\n",
       "      <th>2</th>\n",
       "      <td>2961555356</td>\n",
       "      <td>4069496402</td>\n",
       "      <td>2019-08-15</td>\n",
       "      <td>400</td>\n",
       "      <td>A</td>\n",
       "    </tr>\n",
       "    <tr>\n",
       "      <th>3</th>\n",
       "      <td>3797467345</td>\n",
       "      <td>1196621759</td>\n",
       "      <td>2019-08-15</td>\n",
       "      <td>9759</td>\n",
       "      <td>B</td>\n",
       "    </tr>\n",
       "    <tr>\n",
       "      <th>4</th>\n",
       "      <td>2282983706</td>\n",
       "      <td>2322279887</td>\n",
       "      <td>2019-08-15</td>\n",
       "      <td>2308</td>\n",
       "      <td>B</td>\n",
       "    </tr>\n",
       "    <tr>\n",
       "      <th>...</th>\n",
       "      <td>...</td>\n",
       "      <td>...</td>\n",
       "      <td>...</td>\n",
       "      <td>...</td>\n",
       "      <td>...</td>\n",
       "    </tr>\n",
       "    <tr>\n",
       "      <th>1192</th>\n",
       "      <td>2662137336</td>\n",
       "      <td>3733762160</td>\n",
       "      <td>2019-08-14</td>\n",
       "      <td>6490</td>\n",
       "      <td>B</td>\n",
       "    </tr>\n",
       "    <tr>\n",
       "      <th>1193</th>\n",
       "      <td>2203539145</td>\n",
       "      <td>370388673</td>\n",
       "      <td>2019-08-14</td>\n",
       "      <td>3190</td>\n",
       "      <td>A</td>\n",
       "    </tr>\n",
       "    <tr>\n",
       "      <th>1194</th>\n",
       "      <td>1807773912</td>\n",
       "      <td>573423106</td>\n",
       "      <td>2019-08-14</td>\n",
       "      <td>10550</td>\n",
       "      <td>A</td>\n",
       "    </tr>\n",
       "    <tr>\n",
       "      <th>1195</th>\n",
       "      <td>1947021204</td>\n",
       "      <td>1614305549</td>\n",
       "      <td>2019-08-14</td>\n",
       "      <td>100</td>\n",
       "      <td>A</td>\n",
       "    </tr>\n",
       "    <tr>\n",
       "      <th>1196</th>\n",
       "      <td>3936777065</td>\n",
       "      <td>2108080724</td>\n",
       "      <td>2019-08-15</td>\n",
       "      <td>202740</td>\n",
       "      <td>B</td>\n",
       "    </tr>\n",
       "  </tbody>\n",
       "</table>\n",
       "<p>1197 rows × 5 columns</p>\n",
       "</div>"
      ],
      "text/plain": [
       "      transactionId   visitorId        date  revenue group\n",
       "0        3667963787  3312258926  2019-08-15     1650     B\n",
       "1        2804400009  3642806036  2019-08-15      730     B\n",
       "2        2961555356  4069496402  2019-08-15      400     A\n",
       "3        3797467345  1196621759  2019-08-15     9759     B\n",
       "4        2282983706  2322279887  2019-08-15     2308     B\n",
       "...             ...         ...         ...      ...   ...\n",
       "1192     2662137336  3733762160  2019-08-14     6490     B\n",
       "1193     2203539145   370388673  2019-08-14     3190     A\n",
       "1194     1807773912   573423106  2019-08-14    10550     A\n",
       "1195     1947021204  1614305549  2019-08-14      100     A\n",
       "1196     3936777065  2108080724  2019-08-15   202740     B\n",
       "\n",
       "[1197 rows x 5 columns]"
      ]
     },
     "execution_count": 4,
     "metadata": {},
     "output_type": "execute_result"
    }
   ],
   "source": [
    "orders#.sample(15)"
   ]
  },
  {
   "cell_type": "code",
   "execution_count": 5,
   "id": "bfcb94ab",
   "metadata": {},
   "outputs": [
    {
     "data": {
      "text/html": [
       "<div>\n",
       "<style scoped>\n",
       "    .dataframe tbody tr th:only-of-type {\n",
       "        vertical-align: middle;\n",
       "    }\n",
       "\n",
       "    .dataframe tbody tr th {\n",
       "        vertical-align: top;\n",
       "    }\n",
       "\n",
       "    .dataframe thead th {\n",
       "        text-align: right;\n",
       "    }\n",
       "</style>\n",
       "<table border=\"1\" class=\"dataframe\">\n",
       "  <thead>\n",
       "    <tr style=\"text-align: right;\">\n",
       "      <th></th>\n",
       "      <th>date</th>\n",
       "      <th>group</th>\n",
       "      <th>visitors</th>\n",
       "    </tr>\n",
       "  </thead>\n",
       "  <tbody>\n",
       "    <tr>\n",
       "      <th>0</th>\n",
       "      <td>2019-08-01</td>\n",
       "      <td>A</td>\n",
       "      <td>719</td>\n",
       "    </tr>\n",
       "    <tr>\n",
       "      <th>1</th>\n",
       "      <td>2019-08-02</td>\n",
       "      <td>A</td>\n",
       "      <td>619</td>\n",
       "    </tr>\n",
       "    <tr>\n",
       "      <th>2</th>\n",
       "      <td>2019-08-03</td>\n",
       "      <td>A</td>\n",
       "      <td>507</td>\n",
       "    </tr>\n",
       "    <tr>\n",
       "      <th>3</th>\n",
       "      <td>2019-08-04</td>\n",
       "      <td>A</td>\n",
       "      <td>717</td>\n",
       "    </tr>\n",
       "    <tr>\n",
       "      <th>4</th>\n",
       "      <td>2019-08-05</td>\n",
       "      <td>A</td>\n",
       "      <td>756</td>\n",
       "    </tr>\n",
       "    <tr>\n",
       "      <th>...</th>\n",
       "      <td>...</td>\n",
       "      <td>...</td>\n",
       "      <td>...</td>\n",
       "    </tr>\n",
       "    <tr>\n",
       "      <th>57</th>\n",
       "      <td>2019-08-27</td>\n",
       "      <td>B</td>\n",
       "      <td>720</td>\n",
       "    </tr>\n",
       "    <tr>\n",
       "      <th>58</th>\n",
       "      <td>2019-08-28</td>\n",
       "      <td>B</td>\n",
       "      <td>654</td>\n",
       "    </tr>\n",
       "    <tr>\n",
       "      <th>59</th>\n",
       "      <td>2019-08-29</td>\n",
       "      <td>B</td>\n",
       "      <td>531</td>\n",
       "    </tr>\n",
       "    <tr>\n",
       "      <th>60</th>\n",
       "      <td>2019-08-30</td>\n",
       "      <td>B</td>\n",
       "      <td>490</td>\n",
       "    </tr>\n",
       "    <tr>\n",
       "      <th>61</th>\n",
       "      <td>2019-08-31</td>\n",
       "      <td>B</td>\n",
       "      <td>718</td>\n",
       "    </tr>\n",
       "  </tbody>\n",
       "</table>\n",
       "<p>62 rows × 3 columns</p>\n",
       "</div>"
      ],
      "text/plain": [
       "          date group  visitors\n",
       "0   2019-08-01     A       719\n",
       "1   2019-08-02     A       619\n",
       "2   2019-08-03     A       507\n",
       "3   2019-08-04     A       717\n",
       "4   2019-08-05     A       756\n",
       "..         ...   ...       ...\n",
       "57  2019-08-27     B       720\n",
       "58  2019-08-28     B       654\n",
       "59  2019-08-29     B       531\n",
       "60  2019-08-30     B       490\n",
       "61  2019-08-31     B       718\n",
       "\n",
       "[62 rows x 3 columns]"
      ]
     },
     "execution_count": 5,
     "metadata": {},
     "output_type": "execute_result"
    }
   ],
   "source": [
    "visitors"
   ]
  },
  {
   "cell_type": "markdown",
   "id": "3027b99c",
   "metadata": {},
   "source": [
    "### Изучим общую информацию о датасетах"
   ]
  },
  {
   "cell_type": "code",
   "execution_count": 6,
   "id": "68c372c3",
   "metadata": {},
   "outputs": [
    {
     "name": "stdout",
     "output_type": "stream",
     "text": [
      "<class 'pandas.core.frame.DataFrame'>\n",
      "RangeIndex: 9 entries, 0 to 8\n",
      "Data columns (total 5 columns):\n",
      " #   Column      Non-Null Count  Dtype \n",
      "---  ------      --------------  ----- \n",
      " 0   Hypothesis  9 non-null      object\n",
      " 1   Reach       9 non-null      int64 \n",
      " 2   Impact      9 non-null      int64 \n",
      " 3   Confidence  9 non-null      int64 \n",
      " 4   Efforts     9 non-null      int64 \n",
      "dtypes: int64(4), object(1)\n",
      "memory usage: 488.0+ bytes\n"
     ]
    },
    {
     "data": {
      "text/plain": [
       "'=================================================='"
      ]
     },
     "metadata": {},
     "output_type": "display_data"
    },
    {
     "name": "stdout",
     "output_type": "stream",
     "text": [
      "<class 'pandas.core.frame.DataFrame'>\n",
      "RangeIndex: 1197 entries, 0 to 1196\n",
      "Data columns (total 5 columns):\n",
      " #   Column         Non-Null Count  Dtype \n",
      "---  ------         --------------  ----- \n",
      " 0   transactionId  1197 non-null   int64 \n",
      " 1   visitorId      1197 non-null   int64 \n",
      " 2   date           1197 non-null   object\n",
      " 3   revenue        1197 non-null   int64 \n",
      " 4   group          1197 non-null   object\n",
      "dtypes: int64(3), object(2)\n",
      "memory usage: 46.9+ KB\n"
     ]
    },
    {
     "data": {
      "text/plain": [
       "'=================================================='"
      ]
     },
     "metadata": {},
     "output_type": "display_data"
    },
    {
     "name": "stdout",
     "output_type": "stream",
     "text": [
      "<class 'pandas.core.frame.DataFrame'>\n",
      "RangeIndex: 62 entries, 0 to 61\n",
      "Data columns (total 3 columns):\n",
      " #   Column    Non-Null Count  Dtype \n",
      "---  ------    --------------  ----- \n",
      " 0   date      62 non-null     object\n",
      " 1   group     62 non-null     object\n",
      " 2   visitors  62 non-null     int64 \n",
      "dtypes: int64(1), object(2)\n",
      "memory usage: 1.6+ KB\n"
     ]
    },
    {
     "data": {
      "text/plain": [
       "'=================================================='"
      ]
     },
     "metadata": {},
     "output_type": "display_data"
    }
   ],
   "source": [
    "#Воспользуемся методом info()\n",
    "list_data = [hypothesis, orders, visitors]\n",
    "\n",
    "for value in list_data:\n",
    "    value.info()\n",
    "    display('=' * 50)"
   ]
  },
  {
   "cell_type": "markdown",
   "id": "d67635d0",
   "metadata": {},
   "source": [
    "### Приведение названий столбцов к нижнему регистру"
   ]
  },
  {
   "cell_type": "code",
   "execution_count": 7,
   "id": "f1671392",
   "metadata": {},
   "outputs": [],
   "source": [
    "#Применим к столбцам функцию str.replace()\n",
    "hypothesis.columns = hypothesis.columns.str.lower()"
   ]
  },
  {
   "cell_type": "markdown",
   "id": "e2264056",
   "metadata": {},
   "source": [
    "В датасете *orders* не будем вносить изменения для удобства чтения наименований столбцов."
   ]
  },
  {
   "cell_type": "markdown",
   "id": "a225e130",
   "metadata": {},
   "source": [
    "### Работа с пропусками в данных"
   ]
  },
  {
   "cell_type": "code",
   "execution_count": 8,
   "id": "01a6c763",
   "metadata": {},
   "outputs": [
    {
     "data": {
      "text/plain": [
       "hypothesis    0\n",
       "reach         0\n",
       "impact        0\n",
       "confidence    0\n",
       "efforts       0\n",
       "dtype: int64"
      ]
     },
     "metadata": {},
     "output_type": "display_data"
    },
    {
     "data": {
      "text/plain": [
       "'=================='"
      ]
     },
     "metadata": {},
     "output_type": "display_data"
    },
    {
     "data": {
      "text/plain": [
       "transactionId    0\n",
       "visitorId        0\n",
       "date             0\n",
       "revenue          0\n",
       "group            0\n",
       "dtype: int64"
      ]
     },
     "metadata": {},
     "output_type": "display_data"
    },
    {
     "data": {
      "text/plain": [
       "'=================='"
      ]
     },
     "metadata": {},
     "output_type": "display_data"
    },
    {
     "data": {
      "text/plain": [
       "date        0\n",
       "group       0\n",
       "visitors    0\n",
       "dtype: int64"
      ]
     },
     "metadata": {},
     "output_type": "display_data"
    },
    {
     "data": {
      "text/plain": [
       "'=================='"
      ]
     },
     "metadata": {},
     "output_type": "display_data"
    }
   ],
   "source": [
    "#Применим поочередно 2 метода к датафрейму\n",
    "\n",
    "for value in list_data:\n",
    "    display(value.isna().sum())\n",
    "    display('=' * 18)\n",
    "#sessions.isna().sum()"
   ]
  },
  {
   "cell_type": "markdown",
   "id": "cf3086e4",
   "metadata": {},
   "source": [
    "*Пропуски не обнаружены.*"
   ]
  },
  {
   "cell_type": "markdown",
   "id": "1c9a3429",
   "metadata": {},
   "source": [
    "### Поиск дубликатов"
   ]
  },
  {
   "cell_type": "code",
   "execution_count": 9,
   "id": "1df4c245",
   "metadata": {},
   "outputs": [
    {
     "data": {
      "text/plain": [
       "0"
      ]
     },
     "metadata": {},
     "output_type": "display_data"
    },
    {
     "data": {
      "text/plain": [
       "'==='"
      ]
     },
     "metadata": {},
     "output_type": "display_data"
    },
    {
     "data": {
      "text/plain": [
       "0"
      ]
     },
     "metadata": {},
     "output_type": "display_data"
    },
    {
     "data": {
      "text/plain": [
       "'==='"
      ]
     },
     "metadata": {},
     "output_type": "display_data"
    },
    {
     "data": {
      "text/plain": [
       "0"
      ]
     },
     "metadata": {},
     "output_type": "display_data"
    },
    {
     "data": {
      "text/plain": [
       "'==='"
      ]
     },
     "metadata": {},
     "output_type": "display_data"
    }
   ],
   "source": [
    "#напишем цикл для проверки датасетов с помощью методов duplicated и sum\n",
    "\n",
    "for value in list_data:\n",
    "    display(value.duplicated().sum())\n",
    "    display('=' * 3)"
   ]
  },
  {
   "cell_type": "markdown",
   "id": "487c6969",
   "metadata": {},
   "source": [
    "*Дубликаты не найдены.*"
   ]
  },
  {
   "cell_type": "markdown",
   "id": "6dcee8a4",
   "metadata": {},
   "source": [
    "### Изменение типа данных"
   ]
  },
  {
   "cell_type": "markdown",
   "id": "eb83c936",
   "metadata": {},
   "source": [
    "Переведем в датасетах столбцы с датой к нужному типу данных."
   ]
  },
  {
   "cell_type": "code",
   "execution_count": 10,
   "id": "769c2d73",
   "metadata": {},
   "outputs": [],
   "source": [
    "orders['date'] = pd.to_datetime(orders['date'])"
   ]
  },
  {
   "cell_type": "code",
   "execution_count": 11,
   "id": "74e4db2b",
   "metadata": {},
   "outputs": [],
   "source": [
    "visitors['date'] = pd.to_datetime(visitors['date'])"
   ]
  },
  {
   "cell_type": "markdown",
   "id": "78cfccba",
   "metadata": {},
   "source": [
    "Вывод:\n",
    "- исходные данные хорошего качества, отсутствуют дубликаты, пропуски. Были приведены наименования столбцов в датасетах к \"правильному\" форматированию, а также изменены типы данных для дальнейшего анализа."
   ]
  },
  {
   "cell_type": "markdown",
   "id": "20812edd",
   "metadata": {},
   "source": [
    "## Приоритизация гипотез"
   ]
  },
  {
   "cell_type": "markdown",
   "id": "5e3c0b11",
   "metadata": {},
   "source": [
    "Применим фреймворк `ICE` для приоритизации гипотез и отсортируем их по убыванию приоритета:"
   ]
  },
  {
   "cell_type": "code",
   "execution_count": 12,
   "id": "0db7f275",
   "metadata": {},
   "outputs": [],
   "source": [
    "hypothesis['ICE'] = ((hypothesis['impact'] * hypothesis['confidence']) / hypothesis['efforts']).round(1)"
   ]
  },
  {
   "cell_type": "code",
   "execution_count": 13,
   "id": "13a177f2",
   "metadata": {},
   "outputs": [
    {
     "data": {
      "text/html": [
       "<div>\n",
       "<style scoped>\n",
       "    .dataframe tbody tr th:only-of-type {\n",
       "        vertical-align: middle;\n",
       "    }\n",
       "\n",
       "    .dataframe tbody tr th {\n",
       "        vertical-align: top;\n",
       "    }\n",
       "\n",
       "    .dataframe thead th {\n",
       "        text-align: right;\n",
       "    }\n",
       "</style>\n",
       "<table border=\"1\" class=\"dataframe\">\n",
       "  <thead>\n",
       "    <tr style=\"text-align: right;\">\n",
       "      <th></th>\n",
       "      <th>ICE</th>\n",
       "      <th>hypothesis</th>\n",
       "    </tr>\n",
       "  </thead>\n",
       "  <tbody>\n",
       "    <tr>\n",
       "      <th>8</th>\n",
       "      <td>16.2</td>\n",
       "      <td>Запустить акцию, дающую скидку на товар в день рождения</td>\n",
       "    </tr>\n",
       "    <tr>\n",
       "      <th>0</th>\n",
       "      <td>13.3</td>\n",
       "      <td>Добавить два новых канала привлечения трафика, что позволит привлекать на 30% больше пользователей</td>\n",
       "    </tr>\n",
       "    <tr>\n",
       "      <th>7</th>\n",
       "      <td>11.2</td>\n",
       "      <td>Добавить форму подписки на все основные страницы, чтобы собрать базу клиентов для email-рассылок</td>\n",
       "    </tr>\n",
       "    <tr>\n",
       "      <th>6</th>\n",
       "      <td>8.0</td>\n",
       "      <td>Показать на главной странице баннеры с актуальными акциями и распродажами, чтобы увеличить конверсию</td>\n",
       "    </tr>\n",
       "    <tr>\n",
       "      <th>2</th>\n",
       "      <td>7.0</td>\n",
       "      <td>Добавить блоки рекомендаций товаров на сайт интернет магазина, чтобы повысить конверсию и средний чек заказа</td>\n",
       "    </tr>\n",
       "    <tr>\n",
       "      <th>1</th>\n",
       "      <td>2.0</td>\n",
       "      <td>Запустить собственную службу доставки, что сократит срок доставки заказов</td>\n",
       "    </tr>\n",
       "    <tr>\n",
       "      <th>5</th>\n",
       "      <td>1.3</td>\n",
       "      <td>Добавить страницу отзывов клиентов о магазине, что позволит увеличить количество заказов</td>\n",
       "    </tr>\n",
       "    <tr>\n",
       "      <th>3</th>\n",
       "      <td>1.1</td>\n",
       "      <td>Изменить структура категорий, что увеличит конверсию, т.к. пользователи быстрее найдут нужный товар</td>\n",
       "    </tr>\n",
       "    <tr>\n",
       "      <th>4</th>\n",
       "      <td>1.0</td>\n",
       "      <td>Изменить цвет фона главной страницы, чтобы увеличить вовлеченность пользователей</td>\n",
       "    </tr>\n",
       "  </tbody>\n",
       "</table>\n",
       "</div>"
      ],
      "text/plain": [
       "    ICE  \\\n",
       "8  16.2   \n",
       "0  13.3   \n",
       "7  11.2   \n",
       "6   8.0   \n",
       "2   7.0   \n",
       "1   2.0   \n",
       "5   1.3   \n",
       "3   1.1   \n",
       "4   1.0   \n",
       "\n",
       "                                                                                                     hypothesis  \n",
       "8                                                       Запустить акцию, дающую скидку на товар в день рождения  \n",
       "0            Добавить два новых канала привлечения трафика, что позволит привлекать на 30% больше пользователей  \n",
       "7              Добавить форму подписки на все основные страницы, чтобы собрать базу клиентов для email-рассылок  \n",
       "6          Показать на главной странице баннеры с актуальными акциями и распродажами, чтобы увеличить конверсию  \n",
       "2  Добавить блоки рекомендаций товаров на сайт интернет магазина, чтобы повысить конверсию и средний чек заказа  \n",
       "1                                     Запустить собственную службу доставки, что сократит срок доставки заказов  \n",
       "5                      Добавить страницу отзывов клиентов о магазине, что позволит увеличить количество заказов  \n",
       "3           Изменить структура категорий, что увеличит конверсию, т.к. пользователи быстрее найдут нужный товар  \n",
       "4                              Изменить цвет фона главной страницы, чтобы увеличить вовлеченность пользователей  "
      ]
     },
     "execution_count": 13,
     "metadata": {},
     "output_type": "execute_result"
    }
   ],
   "source": [
    "pd.set_option('display.max_colwidth', 400)\n",
    "hypothesis[['ICE', 'hypothesis']].sort_values(by='ICE', ascending=False)"
   ]
  },
  {
   "cell_type": "markdown",
   "id": "8b78fd91",
   "metadata": {},
   "source": [
    "Применим фреймворк `RICE` для приоритизации гипотез и отсортируем их по убыванию приоритета:"
   ]
  },
  {
   "cell_type": "code",
   "execution_count": 14,
   "id": "a2a464f0",
   "metadata": {},
   "outputs": [],
   "source": [
    "hypothesis['RICE'] = (hypothesis['reach']  *hypothesis['impact'] * hypothesis['confidence']) / hypothesis['efforts']"
   ]
  },
  {
   "cell_type": "code",
   "execution_count": 15,
   "id": "0b7b9551",
   "metadata": {},
   "outputs": [
    {
     "data": {
      "text/html": [
       "<div>\n",
       "<style scoped>\n",
       "    .dataframe tbody tr th:only-of-type {\n",
       "        vertical-align: middle;\n",
       "    }\n",
       "\n",
       "    .dataframe tbody tr th {\n",
       "        vertical-align: top;\n",
       "    }\n",
       "\n",
       "    .dataframe thead th {\n",
       "        text-align: right;\n",
       "    }\n",
       "</style>\n",
       "<table border=\"1\" class=\"dataframe\">\n",
       "  <thead>\n",
       "    <tr style=\"text-align: right;\">\n",
       "      <th></th>\n",
       "      <th>RICE</th>\n",
       "      <th>hypothesis</th>\n",
       "      <th>reach</th>\n",
       "    </tr>\n",
       "  </thead>\n",
       "  <tbody>\n",
       "    <tr>\n",
       "      <th>7</th>\n",
       "      <td>112.0</td>\n",
       "      <td>Добавить форму подписки на все основные страницы, чтобы собрать базу клиентов для email-рассылок</td>\n",
       "      <td>10</td>\n",
       "    </tr>\n",
       "    <tr>\n",
       "      <th>2</th>\n",
       "      <td>56.0</td>\n",
       "      <td>Добавить блоки рекомендаций товаров на сайт интернет магазина, чтобы повысить конверсию и средний чек заказа</td>\n",
       "      <td>8</td>\n",
       "    </tr>\n",
       "    <tr>\n",
       "      <th>0</th>\n",
       "      <td>40.0</td>\n",
       "      <td>Добавить два новых канала привлечения трафика, что позволит привлекать на 30% больше пользователей</td>\n",
       "      <td>3</td>\n",
       "    </tr>\n",
       "    <tr>\n",
       "      <th>6</th>\n",
       "      <td>40.0</td>\n",
       "      <td>Показать на главной странице баннеры с актуальными акциями и распродажами, чтобы увеличить конверсию</td>\n",
       "      <td>5</td>\n",
       "    </tr>\n",
       "    <tr>\n",
       "      <th>8</th>\n",
       "      <td>16.2</td>\n",
       "      <td>Запустить акцию, дающую скидку на товар в день рождения</td>\n",
       "      <td>1</td>\n",
       "    </tr>\n",
       "    <tr>\n",
       "      <th>3</th>\n",
       "      <td>9.0</td>\n",
       "      <td>Изменить структура категорий, что увеличит конверсию, т.к. пользователи быстрее найдут нужный товар</td>\n",
       "      <td>8</td>\n",
       "    </tr>\n",
       "    <tr>\n",
       "      <th>1</th>\n",
       "      <td>4.0</td>\n",
       "      <td>Запустить собственную службу доставки, что сократит срок доставки заказов</td>\n",
       "      <td>2</td>\n",
       "    </tr>\n",
       "    <tr>\n",
       "      <th>5</th>\n",
       "      <td>4.0</td>\n",
       "      <td>Добавить страницу отзывов клиентов о магазине, что позволит увеличить количество заказов</td>\n",
       "      <td>3</td>\n",
       "    </tr>\n",
       "    <tr>\n",
       "      <th>4</th>\n",
       "      <td>3.0</td>\n",
       "      <td>Изменить цвет фона главной страницы, чтобы увеличить вовлеченность пользователей</td>\n",
       "      <td>3</td>\n",
       "    </tr>\n",
       "  </tbody>\n",
       "</table>\n",
       "</div>"
      ],
      "text/plain": [
       "    RICE  \\\n",
       "7  112.0   \n",
       "2   56.0   \n",
       "0   40.0   \n",
       "6   40.0   \n",
       "8   16.2   \n",
       "3    9.0   \n",
       "1    4.0   \n",
       "5    4.0   \n",
       "4    3.0   \n",
       "\n",
       "                                                                                                     hypothesis  \\\n",
       "7              Добавить форму подписки на все основные страницы, чтобы собрать базу клиентов для email-рассылок   \n",
       "2  Добавить блоки рекомендаций товаров на сайт интернет магазина, чтобы повысить конверсию и средний чек заказа   \n",
       "0            Добавить два новых канала привлечения трафика, что позволит привлекать на 30% больше пользователей   \n",
       "6          Показать на главной странице баннеры с актуальными акциями и распродажами, чтобы увеличить конверсию   \n",
       "8                                                       Запустить акцию, дающую скидку на товар в день рождения   \n",
       "3           Изменить структура категорий, что увеличит конверсию, т.к. пользователи быстрее найдут нужный товар   \n",
       "1                                     Запустить собственную службу доставки, что сократит срок доставки заказов   \n",
       "5                      Добавить страницу отзывов клиентов о магазине, что позволит увеличить количество заказов   \n",
       "4                              Изменить цвет фона главной страницы, чтобы увеличить вовлеченность пользователей   \n",
       "\n",
       "   reach  \n",
       "7     10  \n",
       "2      8  \n",
       "0      3  \n",
       "6      5  \n",
       "8      1  \n",
       "3      8  \n",
       "1      2  \n",
       "5      3  \n",
       "4      3  "
      ]
     },
     "execution_count": 15,
     "metadata": {},
     "output_type": "execute_result"
    }
   ],
   "source": [
    "pd.set_option('display.max_colwidth', 400)\n",
    "hypothesis[['RICE', 'hypothesis', 'reach']].sort_values(by='RICE', ascending=False)"
   ]
  },
  {
   "cell_type": "markdown",
   "id": "29589c77",
   "metadata": {},
   "source": [
    "Вывод:\n",
    "- Меняется тройка лидеров : если в ICE это гипотезы 8, 0, 7 , то в RICE - 7, 2, 0. Отличие связано с тем что в фреймворке RICE мы учитываем параметр Reach - скольких пользователей затронет изменение, которое мы хотим внести. В гипотезах 7, 2 он очень высок. Поэтому необходимо предложить для тестирования гипотезу №7 и №2;"
   ]
  },
  {
   "cell_type": "markdown",
   "id": "bd37a670",
   "metadata": {},
   "source": [
    "## Анализ A/B-теста "
   ]
  },
  {
   "cell_type": "markdown",
   "id": "4c7cf1a3",
   "metadata": {},
   "source": [
    "### График кумулятивной выручки"
   ]
  },
  {
   "cell_type": "code",
   "execution_count": 16,
   "id": "9667aec6",
   "metadata": {},
   "outputs": [
    {
     "data": {
      "text/html": [
       "<div>\n",
       "<style scoped>\n",
       "    .dataframe tbody tr th:only-of-type {\n",
       "        vertical-align: middle;\n",
       "    }\n",
       "\n",
       "    .dataframe tbody tr th {\n",
       "        vertical-align: top;\n",
       "    }\n",
       "\n",
       "    .dataframe thead th {\n",
       "        text-align: right;\n",
       "    }\n",
       "</style>\n",
       "<table border=\"1\" class=\"dataframe\">\n",
       "  <thead>\n",
       "    <tr style=\"text-align: right;\">\n",
       "      <th></th>\n",
       "      <th>transactionId</th>\n",
       "      <th>visitorId</th>\n",
       "      <th>date</th>\n",
       "      <th>revenue</th>\n",
       "      <th>group</th>\n",
       "    </tr>\n",
       "  </thead>\n",
       "  <tbody>\n",
       "    <tr>\n",
       "      <th>0</th>\n",
       "      <td>3667963787</td>\n",
       "      <td>3312258926</td>\n",
       "      <td>2019-08-15</td>\n",
       "      <td>1650</td>\n",
       "      <td>B</td>\n",
       "    </tr>\n",
       "    <tr>\n",
       "      <th>1</th>\n",
       "      <td>2804400009</td>\n",
       "      <td>3642806036</td>\n",
       "      <td>2019-08-15</td>\n",
       "      <td>730</td>\n",
       "      <td>B</td>\n",
       "    </tr>\n",
       "    <tr>\n",
       "      <th>2</th>\n",
       "      <td>2961555356</td>\n",
       "      <td>4069496402</td>\n",
       "      <td>2019-08-15</td>\n",
       "      <td>400</td>\n",
       "      <td>A</td>\n",
       "    </tr>\n",
       "    <tr>\n",
       "      <th>3</th>\n",
       "      <td>3797467345</td>\n",
       "      <td>1196621759</td>\n",
       "      <td>2019-08-15</td>\n",
       "      <td>9759</td>\n",
       "      <td>B</td>\n",
       "    </tr>\n",
       "    <tr>\n",
       "      <th>4</th>\n",
       "      <td>2282983706</td>\n",
       "      <td>2322279887</td>\n",
       "      <td>2019-08-15</td>\n",
       "      <td>2308</td>\n",
       "      <td>B</td>\n",
       "    </tr>\n",
       "  </tbody>\n",
       "</table>\n",
       "</div>"
      ],
      "text/plain": [
       "   transactionId   visitorId       date  revenue group\n",
       "0     3667963787  3312258926 2019-08-15     1650     B\n",
       "1     2804400009  3642806036 2019-08-15      730     B\n",
       "2     2961555356  4069496402 2019-08-15      400     A\n",
       "3     3797467345  1196621759 2019-08-15     9759     B\n",
       "4     2282983706  2322279887 2019-08-15     2308     B"
      ]
     },
     "execution_count": 16,
     "metadata": {},
     "output_type": "execute_result"
    }
   ],
   "source": [
    "orders.head()"
   ]
  },
  {
   "cell_type": "markdown",
   "id": "a8c71610",
   "metadata": {},
   "source": [
    "Рассчитаем медианную выручку за день по каждой группе."
   ]
  },
  {
   "cell_type": "code",
   "execution_count": 17,
   "id": "bb30c75b",
   "metadata": {},
   "outputs": [
    {
     "data": {
      "text/plain": [
       "group\n",
       "A    112473\n",
       "B    147274\n",
       "Name: revenue, dtype: int64"
      ]
     },
     "execution_count": 17,
     "metadata": {},
     "output_type": "execute_result"
    }
   ],
   "source": [
    "orders.groupby(['date','group'])['revenue'].sum().groupby('group').median()"
   ]
  },
  {
   "cell_type": "code",
   "execution_count": 18,
   "id": "9140774e",
   "metadata": {
    "scrolled": false
   },
   "outputs": [
    {
     "data": {
      "text/html": [
       "<div>\n",
       "<style scoped>\n",
       "    .dataframe tbody tr th:only-of-type {\n",
       "        vertical-align: middle;\n",
       "    }\n",
       "\n",
       "    .dataframe tbody tr th {\n",
       "        vertical-align: top;\n",
       "    }\n",
       "\n",
       "    .dataframe thead th {\n",
       "        text-align: right;\n",
       "    }\n",
       "</style>\n",
       "<table border=\"1\" class=\"dataframe\">\n",
       "  <thead>\n",
       "    <tr style=\"text-align: right;\">\n",
       "      <th></th>\n",
       "      <th>date</th>\n",
       "      <th>group</th>\n",
       "      <th>visitors</th>\n",
       "    </tr>\n",
       "  </thead>\n",
       "  <tbody>\n",
       "    <tr>\n",
       "      <th>0</th>\n",
       "      <td>2019-08-01</td>\n",
       "      <td>A</td>\n",
       "      <td>719</td>\n",
       "    </tr>\n",
       "    <tr>\n",
       "      <th>1</th>\n",
       "      <td>2019-08-02</td>\n",
       "      <td>A</td>\n",
       "      <td>619</td>\n",
       "    </tr>\n",
       "    <tr>\n",
       "      <th>2</th>\n",
       "      <td>2019-08-03</td>\n",
       "      <td>A</td>\n",
       "      <td>507</td>\n",
       "    </tr>\n",
       "    <tr>\n",
       "      <th>3</th>\n",
       "      <td>2019-08-04</td>\n",
       "      <td>A</td>\n",
       "      <td>717</td>\n",
       "    </tr>\n",
       "    <tr>\n",
       "      <th>4</th>\n",
       "      <td>2019-08-05</td>\n",
       "      <td>A</td>\n",
       "      <td>756</td>\n",
       "    </tr>\n",
       "  </tbody>\n",
       "</table>\n",
       "</div>"
      ],
      "text/plain": [
       "        date group  visitors\n",
       "0 2019-08-01     A       719\n",
       "1 2019-08-02     A       619\n",
       "2 2019-08-03     A       507\n",
       "3 2019-08-04     A       717\n",
       "4 2019-08-05     A       756"
      ]
     },
     "execution_count": 18,
     "metadata": {},
     "output_type": "execute_result"
    }
   ],
   "source": [
    "visitors.head()"
   ]
  },
  {
   "cell_type": "markdown",
   "id": "b719c653",
   "metadata": {},
   "source": [
    "Создадим таблицу `cumulativeData` куммулятивных данных по обеим таблицам"
   ]
  },
  {
   "cell_type": "code",
   "execution_count": 19,
   "id": "e065866a",
   "metadata": {},
   "outputs": [
    {
     "data": {
      "text/html": [
       "<div>\n",
       "<style scoped>\n",
       "    .dataframe tbody tr th:only-of-type {\n",
       "        vertical-align: middle;\n",
       "    }\n",
       "\n",
       "    .dataframe tbody tr th {\n",
       "        vertical-align: top;\n",
       "    }\n",
       "\n",
       "    .dataframe thead th {\n",
       "        text-align: right;\n",
       "    }\n",
       "</style>\n",
       "<table border=\"1\" class=\"dataframe\">\n",
       "  <thead>\n",
       "    <tr style=\"text-align: right;\">\n",
       "      <th></th>\n",
       "      <th>date</th>\n",
       "      <th>group</th>\n",
       "      <th>orders</th>\n",
       "      <th>buyers</th>\n",
       "      <th>revenue</th>\n",
       "      <th>visitors</th>\n",
       "    </tr>\n",
       "  </thead>\n",
       "  <tbody>\n",
       "    <tr>\n",
       "      <th>0</th>\n",
       "      <td>2019-08-01</td>\n",
       "      <td>A</td>\n",
       "      <td>24</td>\n",
       "      <td>20</td>\n",
       "      <td>148579</td>\n",
       "      <td>719</td>\n",
       "    </tr>\n",
       "    <tr>\n",
       "      <th>1</th>\n",
       "      <td>2019-08-01</td>\n",
       "      <td>B</td>\n",
       "      <td>21</td>\n",
       "      <td>20</td>\n",
       "      <td>101217</td>\n",
       "      <td>713</td>\n",
       "    </tr>\n",
       "    <tr>\n",
       "      <th>2</th>\n",
       "      <td>2019-08-02</td>\n",
       "      <td>A</td>\n",
       "      <td>44</td>\n",
       "      <td>38</td>\n",
       "      <td>242401</td>\n",
       "      <td>1338</td>\n",
       "    </tr>\n",
       "    <tr>\n",
       "      <th>3</th>\n",
       "      <td>2019-08-02</td>\n",
       "      <td>B</td>\n",
       "      <td>45</td>\n",
       "      <td>43</td>\n",
       "      <td>266748</td>\n",
       "      <td>1294</td>\n",
       "    </tr>\n",
       "    <tr>\n",
       "      <th>4</th>\n",
       "      <td>2019-08-03</td>\n",
       "      <td>A</td>\n",
       "      <td>68</td>\n",
       "      <td>62</td>\n",
       "      <td>354874</td>\n",
       "      <td>1845</td>\n",
       "    </tr>\n",
       "  </tbody>\n",
       "</table>\n",
       "</div>"
      ],
      "text/plain": [
       "        date group  orders  buyers  revenue  visitors\n",
       "0 2019-08-01     A      24      20   148579       719\n",
       "1 2019-08-01     B      21      20   101217       713\n",
       "2 2019-08-02     A      44      38   242401      1338\n",
       "3 2019-08-02     B      45      43   266748      1294\n",
       "4 2019-08-03     A      68      62   354874      1845"
      ]
     },
     "execution_count": 19,
     "metadata": {},
     "output_type": "execute_result"
    }
   ],
   "source": [
    "datesGroups = orders[['date','group']].drop_duplicates()\n",
    "\n",
    "ordersAggregated = datesGroups.apply(\n",
    "    lambda x: orders[np.logical_and(orders['date'] <= x['date'], orders['group'] == x['group'])].agg(\n",
    "        {'date' : 'max',\n",
    "         'group' : 'max',\n",
    "         'transactionId' : pd.Series.nunique,\n",
    "         'visitorId' : pd.Series.nunique,\n",
    "         'revenue' : 'sum'}\n",
    "    ), axis=1).sort_values(by=['date','group'])\n",
    "\n",
    "visitorsAggregated = datesGroups.apply(\n",
    "    lambda x: visitors[np.logical_and(visitors['date'] <= x['date'], visitors['group'] == x['group'])].agg(\n",
    "        {'date' : 'max', \n",
    "         'group' : 'max',\n",
    "         'visitors' : 'sum'}\n",
    "    ), axis=1).sort_values(by=['date','group'])\n",
    "\n",
    "cumulativeData = ordersAggregated.merge(visitorsAggregated, left_on=['date', 'group'], right_on=['date', 'group'])\n",
    "cumulativeData.columns = ['date', 'group', 'orders', 'buyers', 'revenue', 'visitors']\n",
    "\n",
    "cumulativeData.head()"
   ]
  },
  {
   "cell_type": "markdown",
   "id": "d7ae1f7f",
   "metadata": {},
   "source": [
    "Построим графики куммулятивной выручки обеих групп"
   ]
  },
  {
   "cell_type": "code",
   "execution_count": 20,
   "id": "111a42fe",
   "metadata": {},
   "outputs": [
    {
     "data": {
      "image/png": "[encoded data removed]",
      "text/plain": [
       "<Figure size 1080x360 with 1 Axes>"
      ]
     },
     "metadata": {
      "needs_background": "light"
     },
     "output_type": "display_data"
    }
   ],
   "source": [
    "cumulativeRevenueA = cumulativeData[cumulativeData['group']=='A'][['date','revenue', 'orders']]\n",
    "cumulativeRevenueB = cumulativeData[cumulativeData['group']=='B'][['date','revenue', 'orders']]\n",
    "\n",
    "from pandas.plotting import register_matplotlib_converters\n",
    "register_matplotlib_converters()\n",
    "\n",
    "plt.figure(figsize=(15,5))\n",
    "plt.plot(cumulativeRevenueA['date'], cumulativeRevenueA['revenue'], label='Кумулятивная выручка группы A')\n",
    "plt.plot(cumulativeRevenueB['date'], cumulativeRevenueB['revenue'], label='Кумулятивная выручка группы B')\n",
    "plt.grid()\n",
    "plt.ylabel('Кумулятивная выручка')\n",
    "plt.xlabel('Дата')\n",
    "plt.legend()\n",
    "plt.show()"
   ]
  },
  {
   "cell_type": "markdown",
   "id": "5c1e1654",
   "metadata": {},
   "source": [
    "Вывод:\n",
    "\n",
    "- В первой половине месяца видим, что выручка в группе B растёт немного быстрее, чем в A, а 13 августа они сравниваются. Во второй половине месяца наблюдаем в группе В резкий скачек в районе 18-19 чисел, что может говорить о выбросах. Далее видно, что её выручка больше. Вероятно сильный всплеск в группе \"B\" обусловлен крупными заказами. Если отбросить его, то получим более достоверную картину."
   ]
  },
  {
   "cell_type": "markdown",
   "id": "961edd92",
   "metadata": {},
   "source": [
    "Посмотрим какие заказы были в интервале 17-21 августа"
   ]
  },
  {
   "cell_type": "code",
   "execution_count": 21,
   "id": "63103615",
   "metadata": {},
   "outputs": [
    {
     "data": {
      "text/html": [
       "<div>\n",
       "<style scoped>\n",
       "    .dataframe tbody tr th:only-of-type {\n",
       "        vertical-align: middle;\n",
       "    }\n",
       "\n",
       "    .dataframe tbody tr th {\n",
       "        vertical-align: top;\n",
       "    }\n",
       "\n",
       "    .dataframe thead th {\n",
       "        text-align: right;\n",
       "    }\n",
       "</style>\n",
       "<table border=\"1\" class=\"dataframe\">\n",
       "  <thead>\n",
       "    <tr style=\"text-align: right;\">\n",
       "      <th></th>\n",
       "      <th>date</th>\n",
       "      <th>revenue</th>\n",
       "      <th>orders</th>\n",
       "    </tr>\n",
       "  </thead>\n",
       "  <tbody>\n",
       "    <tr>\n",
       "      <th>33</th>\n",
       "      <td>2019-08-17</td>\n",
       "      <td>2620790</td>\n",
       "      <td>373</td>\n",
       "    </tr>\n",
       "    <tr>\n",
       "      <th>35</th>\n",
       "      <td>2019-08-18</td>\n",
       "      <td>2686621</td>\n",
       "      <td>382</td>\n",
       "    </tr>\n",
       "    <tr>\n",
       "      <th>37</th>\n",
       "      <td>2019-08-19</td>\n",
       "      <td>4116541</td>\n",
       "      <td>403</td>\n",
       "    </tr>\n",
       "    <tr>\n",
       "      <th>39</th>\n",
       "      <td>2019-08-20</td>\n",
       "      <td>4263815</td>\n",
       "      <td>423</td>\n",
       "    </tr>\n",
       "    <tr>\n",
       "      <th>41</th>\n",
       "      <td>2019-08-21</td>\n",
       "      <td>4426892</td>\n",
       "      <td>437</td>\n",
       "    </tr>\n",
       "  </tbody>\n",
       "</table>\n",
       "</div>"
      ],
      "text/plain": [
       "         date  revenue  orders\n",
       "33 2019-08-17  2620790     373\n",
       "35 2019-08-18  2686621     382\n",
       "37 2019-08-19  4116541     403\n",
       "39 2019-08-20  4263815     423\n",
       "41 2019-08-21  4426892     437"
      ]
     },
     "execution_count": 21,
     "metadata": {},
     "output_type": "execute_result"
    }
   ],
   "source": [
    "cumulativeRevenueB.query(' \"2019-08-17\" <= date <= \"2019-08-21\" ')"
   ]
  },
  {
   "cell_type": "markdown",
   "id": "26b192f2",
   "metadata": {},
   "source": [
    "Количество заказов на 19 августа в сравнении с соседними днями"
   ]
  },
  {
   "cell_type": "code",
   "execution_count": 22,
   "id": "db0fc1fc",
   "metadata": {},
   "outputs": [
    {
     "name": "stdout",
     "output_type": "stream",
     "text": [
      "Медианное значение одного заказа 19 августа = 2630.0\n"
     ]
    },
    {
     "data": {
      "text/html": [
       "<div>\n",
       "<style scoped>\n",
       "    .dataframe tbody tr th:only-of-type {\n",
       "        vertical-align: middle;\n",
       "    }\n",
       "\n",
       "    .dataframe tbody tr th {\n",
       "        vertical-align: top;\n",
       "    }\n",
       "\n",
       "    .dataframe thead th {\n",
       "        text-align: right;\n",
       "    }\n",
       "</style>\n",
       "<table border=\"1\" class=\"dataframe\">\n",
       "  <thead>\n",
       "    <tr style=\"text-align: right;\">\n",
       "      <th></th>\n",
       "      <th>transactionId</th>\n",
       "      <th>visitorId</th>\n",
       "      <th>date</th>\n",
       "      <th>revenue</th>\n",
       "      <th>group</th>\n",
       "    </tr>\n",
       "  </thead>\n",
       "  <tbody>\n",
       "    <tr>\n",
       "      <th>425</th>\n",
       "      <td>590470918</td>\n",
       "      <td>1920142716</td>\n",
       "      <td>2019-08-19</td>\n",
       "      <td>1294500</td>\n",
       "      <td>B</td>\n",
       "    </tr>\n",
       "    <tr>\n",
       "      <th>530</th>\n",
       "      <td>3970235543</td>\n",
       "      <td>2912540959</td>\n",
       "      <td>2019-08-19</td>\n",
       "      <td>43990</td>\n",
       "      <td>A</td>\n",
       "    </tr>\n",
       "    <tr>\n",
       "      <th>527</th>\n",
       "      <td>1570513684</td>\n",
       "      <td>2837914161</td>\n",
       "      <td>2019-08-19</td>\n",
       "      <td>33405</td>\n",
       "      <td>B</td>\n",
       "    </tr>\n",
       "    <tr>\n",
       "      <th>421</th>\n",
       "      <td>3765974140</td>\n",
       "      <td>1357170471</td>\n",
       "      <td>2019-08-19</td>\n",
       "      <td>31680</td>\n",
       "      <td>A</td>\n",
       "    </tr>\n",
       "    <tr>\n",
       "      <th>461</th>\n",
       "      <td>2683113224</td>\n",
       "      <td>154576532</td>\n",
       "      <td>2019-08-19</td>\n",
       "      <td>26550</td>\n",
       "      <td>B</td>\n",
       "    </tr>\n",
       "  </tbody>\n",
       "</table>\n",
       "</div>"
      ],
      "text/plain": [
       "     transactionId   visitorId       date  revenue group\n",
       "425      590470918  1920142716 2019-08-19  1294500     B\n",
       "530     3970235543  2912540959 2019-08-19    43990     A\n",
       "527     1570513684  2837914161 2019-08-19    33405     B\n",
       "421     3765974140  1357170471 2019-08-19    31680     A\n",
       "461     2683113224   154576532 2019-08-19    26550     B"
      ]
     },
     "execution_count": 22,
     "metadata": {},
     "output_type": "execute_result"
    }
   ],
   "source": [
    "print('Медианное значение одного заказа 19 августа =', orders.query(' date == \"2019-08-19\" ')['revenue'].median())\n",
    "orders.query(' date == \"2019-08-19\" ').sort_values(by='revenue', ascending=False).head()"
   ]
  },
  {
   "cell_type": "markdown",
   "id": "46feca40",
   "metadata": {},
   "source": [
    "Вывод:\n",
    "- Предположение подтвердилось, что был выброс, заказ на 1,29 млн. в группе \"B\" 19 августа, что почти в 500 раз больше медианного заказа за этот день. В дальнейшем анализе это надо учитывать;"
   ]
  },
  {
   "cell_type": "markdown",
   "id": "91e39bf8",
   "metadata": {},
   "source": [
    "### График кумулятивного среднего чека"
   ]
  },
  {
   "cell_type": "markdown",
   "id": "8100f54b",
   "metadata": {},
   "source": [
    "Для того, чтобы построить графики среднего кумулятивного чека по группам, разделим кумулятивную выручку на кумулятивное число заказов:"
   ]
  },
  {
   "cell_type": "code",
   "execution_count": 23,
   "id": "2afa14c6",
   "metadata": {},
   "outputs": [
    {
     "data": {
      "image/png": "[encoded data removed]",
      "text/plain": [
       "<Figure size 1080x360 with 1 Axes>"
      ]
     },
     "metadata": {
      "needs_background": "light"
     },
     "output_type": "display_data"
    }
   ],
   "source": [
    "plt.figure(figsize=(15,5))\n",
    "plt.grid()\n",
    "plt.plot(\n",
    "    cumulativeRevenueA['date'], \n",
    "    cumulativeRevenueA['revenue']/cumulativeRevenueA['orders'], \n",
    "    label='Средний кумулятивный чек группы A'\n",
    ")\n",
    "plt.plot(\n",
    "    cumulativeRevenueB['date'], \n",
    "    cumulativeRevenueB['revenue']/cumulativeRevenueB['orders'], \n",
    "    label='Средний кумулятивный чек группы B')\n",
    "plt.ylabel('Кумулятивный средний чек')\n",
    "plt.xlabel('Дата')\n",
    "plt.legend()\n",
    "plt.show()"
   ]
  },
  {
   "cell_type": "markdown",
   "id": "aff9c859",
   "metadata": {},
   "source": [
    "Вывод:\n",
    "- Получили схожий график с графиком куммулятивной выручки. За исключением некоторых отличий. В первой половине в группе B чек преимущественно больше, но есть даты где чек больше в группе A: 1 августа и 12-14 августа. Далее чек группы B стабильно больше. Но также видим влияние на средний чек аномального заказа 19-го августа, а после него средний чек в B пошел на спад, в то время как в A с 19-го он имеет тенденцию к росту;"
   ]
  },
  {
   "cell_type": "markdown",
   "id": "c7edf604",
   "metadata": {},
   "source": [
    "### График относительного изменения кумулятивного среднего чека группы B к группе A"
   ]
  },
  {
   "cell_type": "markdown",
   "id": "f07eee09",
   "metadata": {},
   "source": [
    "Объединим таблицы `cumulativeRevenueA` и `cumulativeRevenueB` в один датасет. Построим график относительно различия кумулятивного среднего чека группы B к группе A:"
   ]
  },
  {
   "cell_type": "code",
   "execution_count": 24,
   "id": "603d760e",
   "metadata": {},
   "outputs": [
    {
     "data": {
      "image/png": "[encoded data removed]",
      "text/plain": [
       "<Figure size 1080x360 with 1 Axes>"
      ]
     },
     "metadata": {
      "needs_background": "light"
     },
     "output_type": "display_data"
    }
   ],
   "source": [
    "mergedCumulativeRevenue = cumulativeRevenueA.merge(\n",
    "    cumulativeRevenueB, left_on='date', right_on='date', how='left', suffixes=['A', 'B']\n",
    ")\n",
    "\n",
    "plt.figure(figsize=(15,5))\n",
    "plt.grid()\n",
    "plt.plot(\n",
    "    mergedCumulativeRevenue['date'],\n",
    "    (mergedCumulativeRevenue['revenueB']/mergedCumulativeRevenue['ordersB'])/(\n",
    "        mergedCumulativeRevenue['revenueA']/mergedCumulativeRevenue['ordersA'])-1, \n",
    "    label='Изменение кумулятивного среднего чека группы B к А')\n",
    "plt.title('Относительное изменение кумулятивного среднего чека групп B к А')\n",
    "#plt.ylabel('Выручка')\n",
    "plt.xlabel('Дата')\n",
    "plt.legend()\n",
    "plt.axhline(y=0, color='black', linestyle='--')\n",
    "plt.show()"
   ]
  },
  {
   "cell_type": "markdown",
   "id": "a9419f7a",
   "metadata": {},
   "source": [
    "Вывод:\n",
    "- Результаты теста сильно меняются в несколько дат. Об одном выбросе нам известно - 19 августа, по остальным также наблюдаем возможные выбросы;"
   ]
  },
  {
   "cell_type": "markdown",
   "id": "f6e9271f",
   "metadata": {},
   "source": [
    "### График кумулятивной конверсии"
   ]
  },
  {
   "cell_type": "markdown",
   "id": "878ccda4",
   "metadata": {},
   "source": [
    "Добавим в `cumulativeData` столбец `conversion` c отношением числа заказов к количеству пользователей в указанной группе в указанный день. Объявим переменные `cumulativeDataA` и `cumulativeDataB`, в которых сохраним данные о заказах в A и B соответственно. Построим графики кумулятивной конверсии по дням по группам."
   ]
  },
  {
   "cell_type": "code",
   "execution_count": 25,
   "id": "65f03472",
   "metadata": {},
   "outputs": [
    {
     "data": {
      "image/png": "[encoded data removed]",
      "text/plain": [
       "<Figure size 1080x360 with 1 Axes>"
      ]
     },
     "metadata": {
      "needs_background": "light"
     },
     "output_type": "display_data"
    }
   ],
   "source": [
    "cumulativeData['conversion'] = cumulativeData['orders']/cumulativeData['visitors']\n",
    "\n",
    "cumulativeDataA = cumulativeData[cumulativeData['group']=='A']\n",
    "cumulativeDataB = cumulativeData[cumulativeData['group']=='B']\n",
    "\n",
    "plt.figure(figsize=(15,5))\n",
    "plt.grid()\n",
    "plt.plot(cumulativeDataA['date'], cumulativeDataA['conversion'], label='Кумулятивная конверсия A')\n",
    "plt.plot(cumulativeDataB['date'], cumulativeDataB['conversion'], label='Кумулятивная конверсия B')\n",
    "plt.title('Кумулятивная конверсия')\n",
    "plt.ylabel('Значение конверсии')\n",
    "plt.xlabel('Дата')\n",
    "plt.legend()\n",
    "plt.show()"
   ]
  },
  {
   "cell_type": "markdown",
   "id": "9bc7e6bb",
   "metadata": {},
   "source": [
    "Вывод:\n",
    "- До 4 августа конверсия группы A была выше, Далее у группы В она начала расти, в то время как у А - падать. И на оставшемся отрезке конверсия группы В в среднем на 0.04 выше, чем конверсия группы А;"
   ]
  },
  {
   "cell_type": "markdown",
   "id": "38d2500f",
   "metadata": {},
   "source": [
    "###  График относительного изменения кумулятивной конверсии"
   ]
  },
  {
   "cell_type": "markdown",
   "id": "c8407254",
   "metadata": {},
   "source": [
    "Объединим таблицы `cumulativeDataA` и `cumulativeDataB`, cохраним в переменной `mergedCumulativeConversions`. Построим график относительного различия кумулятивной конверсии группы B к группе A."
   ]
  },
  {
   "cell_type": "code",
   "execution_count": 26,
   "id": "467d42fe",
   "metadata": {},
   "outputs": [
    {
     "data": {
      "image/png": "[encoded data removed]",
      "text/plain": [
       "<Figure size 1080x360 with 1 Axes>"
      ]
     },
     "metadata": {
      "needs_background": "light"
     },
     "output_type": "display_data"
    }
   ],
   "source": [
    "mergedCumulativeConversions = cumulativeDataA[['date','conversion']].merge(\n",
    "    cumulativeDataB[['date','conversion']], \n",
    "    left_on='date', \n",
    "    right_on='date', \n",
    "    how='left', \n",
    "    suffixes=['A', 'B'])\n",
    "plt.figure(figsize=(15,5))\n",
    "plt.grid()\n",
    "plt.plot(\n",
    "    mergedCumulativeConversions['date'], \n",
    "    mergedCumulativeConversions['conversionB']/mergedCumulativeConversions['conversionA']-1, \n",
    "    label='Прирост конверсии группы B к группе A')\n",
    "\n",
    "plt.title('Относительное изменение кумулятивной конверсии группы B к группе A')\n",
    "plt.legend()\n",
    "#plt.ylabel('изменение конверсии')\n",
    "plt.xlabel('Дата')\n",
    "plt.axhline(y=0, color='black', linestyle='--') \n",
    "plt.axhline(y=0.095, color='red', linestyle='--')\n",
    "plt.axhline(y=0.21, color='red', linestyle='--')\n",
    "plt.show()"
   ]
  },
  {
   "cell_type": "markdown",
   "id": "27ea4759",
   "metadata": {},
   "source": [
    "Вывод:\n",
    "- Конверсия группы В показывает себя намного лучше, достигая прироста 10 - 21% относительно группы А;"
   ]
  },
  {
   "cell_type": "markdown",
   "id": "ca8d02fc",
   "metadata": {},
   "source": [
    "### Точечный график количества заказов по пользователям"
   ]
  },
  {
   "cell_type": "markdown",
   "id": "281b9fe1",
   "metadata": {},
   "source": [
    "Подсчитаем количество заказов по пользователям и построим точечный график."
   ]
  },
  {
   "cell_type": "code",
   "execution_count": 27,
   "id": "609c3fd5",
   "metadata": {},
   "outputs": [
    {
     "data": {
      "text/html": [
       "<div>\n",
       "<style scoped>\n",
       "    .dataframe tbody tr th:only-of-type {\n",
       "        vertical-align: middle;\n",
       "    }\n",
       "\n",
       "    .dataframe tbody tr th {\n",
       "        vertical-align: top;\n",
       "    }\n",
       "\n",
       "    .dataframe thead th {\n",
       "        text-align: right;\n",
       "    }\n",
       "</style>\n",
       "<table border=\"1\" class=\"dataframe\">\n",
       "  <thead>\n",
       "    <tr style=\"text-align: right;\">\n",
       "      <th></th>\n",
       "      <th>transactionId</th>\n",
       "      <th>visitorId</th>\n",
       "      <th>date</th>\n",
       "      <th>revenue</th>\n",
       "      <th>group</th>\n",
       "    </tr>\n",
       "  </thead>\n",
       "  <tbody>\n",
       "    <tr>\n",
       "      <th>0</th>\n",
       "      <td>3667963787</td>\n",
       "      <td>3312258926</td>\n",
       "      <td>2019-08-15</td>\n",
       "      <td>1650</td>\n",
       "      <td>B</td>\n",
       "    </tr>\n",
       "    <tr>\n",
       "      <th>1</th>\n",
       "      <td>2804400009</td>\n",
       "      <td>3642806036</td>\n",
       "      <td>2019-08-15</td>\n",
       "      <td>730</td>\n",
       "      <td>B</td>\n",
       "    </tr>\n",
       "    <tr>\n",
       "      <th>2</th>\n",
       "      <td>2961555356</td>\n",
       "      <td>4069496402</td>\n",
       "      <td>2019-08-15</td>\n",
       "      <td>400</td>\n",
       "      <td>A</td>\n",
       "    </tr>\n",
       "    <tr>\n",
       "      <th>3</th>\n",
       "      <td>3797467345</td>\n",
       "      <td>1196621759</td>\n",
       "      <td>2019-08-15</td>\n",
       "      <td>9759</td>\n",
       "      <td>B</td>\n",
       "    </tr>\n",
       "    <tr>\n",
       "      <th>4</th>\n",
       "      <td>2282983706</td>\n",
       "      <td>2322279887</td>\n",
       "      <td>2019-08-15</td>\n",
       "      <td>2308</td>\n",
       "      <td>B</td>\n",
       "    </tr>\n",
       "  </tbody>\n",
       "</table>\n",
       "</div>"
      ],
      "text/plain": [
       "   transactionId   visitorId       date  revenue group\n",
       "0     3667963787  3312258926 2019-08-15     1650     B\n",
       "1     2804400009  3642806036 2019-08-15      730     B\n",
       "2     2961555356  4069496402 2019-08-15      400     A\n",
       "3     3797467345  1196621759 2019-08-15     9759     B\n",
       "4     2282983706  2322279887 2019-08-15     2308     B"
      ]
     },
     "execution_count": 27,
     "metadata": {},
     "output_type": "execute_result"
    }
   ],
   "source": [
    "orders.head()"
   ]
  },
  {
   "cell_type": "code",
   "execution_count": 28,
   "id": "9bada9ad",
   "metadata": {},
   "outputs": [
    {
     "data": {
      "text/html": [
       "<div>\n",
       "<style scoped>\n",
       "    .dataframe tbody tr th:only-of-type {\n",
       "        vertical-align: middle;\n",
       "    }\n",
       "\n",
       "    .dataframe tbody tr th {\n",
       "        vertical-align: top;\n",
       "    }\n",
       "\n",
       "    .dataframe thead th {\n",
       "        text-align: right;\n",
       "    }\n",
       "</style>\n",
       "<table border=\"1\" class=\"dataframe\">\n",
       "  <thead>\n",
       "    <tr style=\"text-align: right;\">\n",
       "      <th></th>\n",
       "      <th>user_id</th>\n",
       "      <th>orders</th>\n",
       "    </tr>\n",
       "  </thead>\n",
       "  <tbody>\n",
       "    <tr>\n",
       "      <th>1023</th>\n",
       "      <td>4256040402</td>\n",
       "      <td>11</td>\n",
       "    </tr>\n",
       "    <tr>\n",
       "      <th>591</th>\n",
       "      <td>2458001652</td>\n",
       "      <td>11</td>\n",
       "    </tr>\n",
       "    <tr>\n",
       "      <th>569</th>\n",
       "      <td>2378935119</td>\n",
       "      <td>9</td>\n",
       "    </tr>\n",
       "    <tr>\n",
       "      <th>487</th>\n",
       "      <td>2038680547</td>\n",
       "      <td>8</td>\n",
       "    </tr>\n",
       "    <tr>\n",
       "      <th>44</th>\n",
       "      <td>199603092</td>\n",
       "      <td>5</td>\n",
       "    </tr>\n",
       "  </tbody>\n",
       "</table>\n",
       "</div>"
      ],
      "text/plain": [
       "         user_id  orders\n",
       "1023  4256040402      11\n",
       "591   2458001652      11\n",
       "569   2378935119       9\n",
       "487   2038680547       8\n",
       "44     199603092       5"
      ]
     },
     "execution_count": 28,
     "metadata": {},
     "output_type": "execute_result"
    }
   ],
   "source": [
    "ordersByUsers = orders.drop(\n",
    "    ['group', 'revenue', 'date'], axis=1).groupby('visitorId', as_index=False).agg({'transactionId' : pd.Series.nunique})\n",
    "\n",
    "ordersByUsers.columns = ['user_id','orders']\n",
    "\n",
    "ordersByUsers.sort_values(by='orders',ascending=False).head()"
   ]
  },
  {
   "cell_type": "code",
   "execution_count": 29,
   "id": "6c6eef0c",
   "metadata": {},
   "outputs": [
    {
     "data": {
      "image/png": "[encoded data removed]",
      "text/plain": [
       "<Figure size 1080x360 with 1 Axes>"
      ]
     },
     "metadata": {
      "needs_background": "light"
     },
     "output_type": "display_data"
    }
   ],
   "source": [
    "x_values = pd.Series(range(0,len(ordersByUsers)))\n",
    "\n",
    "plt.figure(figsize=(15,5))\n",
    "plt.grid()\n",
    "plt.title('График количества заказов по пользователям')\n",
    "plt.scatter(x_values, ordersByUsers['orders'], alpha=0.5)\n",
    "plt.ylabel('Количество заказов')\n",
    "plt.xlabel('Количество пользователей')\n",
    "plt.show()"
   ]
  },
  {
   "cell_type": "markdown",
   "id": "f72a6c20",
   "metadata": {},
   "source": [
    "Выводы:\n",
    "- Основная масса пользователей совершают 1 заказ. Посчитаем перцентили и определим являются ли аномалиями пользователи, которые совершили 2 заказа и более;"
   ]
  },
  {
   "cell_type": "markdown",
   "id": "c1381a9c",
   "metadata": {},
   "source": [
    "### Граница заказов для определения аномальных пользователей"
   ]
  },
  {
   "cell_type": "markdown",
   "id": "7a03b8ce",
   "metadata": {},
   "source": [
    "Посчитаем 95-й и 99-й перцентили количества заказов на пользователя. Выберем границу для определения аномальных пользователей."
   ]
  },
  {
   "cell_type": "code",
   "execution_count": 30,
   "id": "2dded858",
   "metadata": {},
   "outputs": [
    {
     "name": "stdout",
     "output_type": "stream",
     "text": [
      "95 и 99 перцентили по заказам :  [2. 4.]\n"
     ]
    }
   ],
   "source": [
    "print('95 и 99 перцентили по заказам : ', np.percentile(ordersByUsers['orders'], [95, 99])) "
   ]
  },
  {
   "cell_type": "markdown",
   "id": "80c7e20f",
   "metadata": {},
   "source": [
    "Для большей точности рассчитаем все перцентили с 95 по 99"
   ]
  },
  {
   "cell_type": "code",
   "execution_count": 31,
   "id": "f29c86c3",
   "metadata": {},
   "outputs": [
    {
     "name": "stdout",
     "output_type": "stream",
     "text": [
      "перцентили c 95 по 99:  [2. 2. 2. 3. 4.]\n"
     ]
    }
   ],
   "source": [
    "print('перцентили c 95 по 99: ', np.percentile(ordersByUsers['orders'], [95, 96, 97, 98, 99])) "
   ]
  },
  {
   "cell_type": "markdown",
   "id": "53a4e7ac",
   "metadata": {},
   "source": [
    "Вывод:\n",
    "- Всех пользователей сделавших более 2 заказов будем считать аномалиями;"
   ]
  },
  {
   "cell_type": "markdown",
   "id": "6e611a5a",
   "metadata": {},
   "source": [
    "### График стоимости заказов"
   ]
  },
  {
   "cell_type": "markdown",
   "id": "6259303e",
   "metadata": {},
   "source": [
    "Построим точечный график стоимостей заказов."
   ]
  },
  {
   "cell_type": "code",
   "execution_count": 32,
   "id": "ed187f78",
   "metadata": {},
   "outputs": [
    {
     "data": {
      "image/png": "[encoded data removed]",
      "text/plain": [
       "<Figure size 1080x360 with 1 Axes>"
      ]
     },
     "metadata": {
      "needs_background": "light"
     },
     "output_type": "display_data"
    }
   ],
   "source": [
    "x_values = pd.Series(range(0,len(orders['revenue'])))\n",
    "plt.figure(figsize=(15,5))\n",
    "plt.scatter(x_values, orders['revenue'], alpha=0.5)\n",
    "plt.title('Точечный график стоимости заказов')\n",
    "plt.xlabel('Количество пользователей')\n",
    "plt.ylabel('Стоимость заказов')\n",
    "plt.grid()\n",
    "plt.show()"
   ]
  },
  {
   "cell_type": "markdown",
   "id": "758dcebd",
   "metadata": {},
   "source": [
    "Уменьшим диапазон по выручке для более детального изучения:"
   ]
  },
  {
   "cell_type": "code",
   "execution_count": 33,
   "id": "e07411d4",
   "metadata": {},
   "outputs": [
    {
     "data": {
      "image/png": "[encoded data removed]",
      "text/plain": [
       "<Figure size 1080x360 with 1 Axes>"
      ]
     },
     "metadata": {
      "needs_background": "light"
     },
     "output_type": "display_data"
    },
    {
     "data": {
      "image/png": "[encoded data removed]",
      "text/plain": [
       "<Figure size 1080x360 with 1 Axes>"
      ]
     },
     "metadata": {
      "needs_background": "light"
     },
     "output_type": "display_data"
    }
   ],
   "source": [
    "plt.figure(figsize=(15,5))\n",
    "plt.scatter(x_values, orders['revenue'], alpha=0.5)\n",
    "plt.ylim(0, 200000)\n",
    "plt.title('Точечный график стоимости заказов')\n",
    "plt.xlabel('Количество пользователей')\n",
    "plt.ylabel('Стоимость заказов')\n",
    "plt.grid()\n",
    "plt.show()\n",
    "\n",
    "plt.figure(figsize=(15,5))\n",
    "plt.scatter(x_values, orders['revenue'], alpha=0.5)\n",
    "plt.ylim(0, 60000)\n",
    "plt.title('Точечный график стоимости заказов')\n",
    "plt.xlabel('Количество пользователей')\n",
    "plt.ylabel('Стоимость заказов')\n",
    "plt.grid()\n",
    "plt.show()"
   ]
  },
  {
   "cell_type": "markdown",
   "id": "64c38f4d",
   "metadata": {},
   "source": [
    "Вывод:\n",
    "- На графике видно 2 выброса. Данные заказы с большой суммой заказа могут исказить результаты. Чтобы найти более точную границу аномальных заказов рассчитаем перцентили;"
   ]
  },
  {
   "cell_type": "markdown",
   "id": "59a09d12",
   "metadata": {},
   "source": [
    "### Граница для определения аномальных заказов по выручке"
   ]
  },
  {
   "cell_type": "markdown",
   "id": "ab0339f9",
   "metadata": {},
   "source": [
    "Посчитаем 95-й и 99-й перцентили стоимости заказов. Выберем границу для определения аномальных заказов."
   ]
  },
  {
   "cell_type": "code",
   "execution_count": 34,
   "id": "16f343ea",
   "metadata": {},
   "outputs": [
    {
     "name": "stdout",
     "output_type": "stream",
     "text": [
      "95 и 99 перцентили по выручке заказов: [28000.  58233.2]\n"
     ]
    }
   ],
   "source": [
    "print('95 и 99 перцентили по выручке заказов:', np.percentile(orders['revenue'], [95, 99])) "
   ]
  },
  {
   "cell_type": "markdown",
   "id": "b8e29f9e",
   "metadata": {},
   "source": [
    "Вывод:\n",
    "- 99% заказов меньше 58233.2, установим её в качестве границы для аномалий;"
   ]
  },
  {
   "cell_type": "markdown",
   "id": "3fdd8c78",
   "metadata": {},
   "source": [
    "### Cтатистическая значимость различий в конверсии между группами по «сырым» данным"
   ]
  },
  {
   "cell_type": "markdown",
   "id": "159239a8",
   "metadata": {},
   "source": [
    "Посчитаем статистическую значимость различий в конверсии между группами по «сырым» данным. "
   ]
  },
  {
   "cell_type": "markdown",
   "id": "b6aeb5b0",
   "metadata": {},
   "source": [
    "Консолидируем все данные по заказам и визитам в одну таблицу. Добавим кумулятивные показатели. Для этого создадим несколько датафреймов и объединим их:"
   ]
  },
  {
   "cell_type": "code",
   "execution_count": 35,
   "id": "3964184b",
   "metadata": {},
   "outputs": [
    {
     "data": {
      "text/html": [
       "<div>\n",
       "<style scoped>\n",
       "    .dataframe tbody tr th:only-of-type {\n",
       "        vertical-align: middle;\n",
       "    }\n",
       "\n",
       "    .dataframe tbody tr th {\n",
       "        vertical-align: top;\n",
       "    }\n",
       "\n",
       "    .dataframe thead th {\n",
       "        text-align: right;\n",
       "    }\n",
       "</style>\n",
       "<table border=\"1\" class=\"dataframe\">\n",
       "  <thead>\n",
       "    <tr style=\"text-align: right;\">\n",
       "      <th></th>\n",
       "      <th>date</th>\n",
       "      <th>group</th>\n",
       "      <th>visitors</th>\n",
       "    </tr>\n",
       "  </thead>\n",
       "  <tbody>\n",
       "    <tr>\n",
       "      <th>0</th>\n",
       "      <td>2019-08-01</td>\n",
       "      <td>A</td>\n",
       "      <td>719</td>\n",
       "    </tr>\n",
       "    <tr>\n",
       "      <th>1</th>\n",
       "      <td>2019-08-02</td>\n",
       "      <td>A</td>\n",
       "      <td>619</td>\n",
       "    </tr>\n",
       "    <tr>\n",
       "      <th>2</th>\n",
       "      <td>2019-08-03</td>\n",
       "      <td>A</td>\n",
       "      <td>507</td>\n",
       "    </tr>\n",
       "    <tr>\n",
       "      <th>3</th>\n",
       "      <td>2019-08-04</td>\n",
       "      <td>A</td>\n",
       "      <td>717</td>\n",
       "    </tr>\n",
       "    <tr>\n",
       "      <th>4</th>\n",
       "      <td>2019-08-05</td>\n",
       "      <td>A</td>\n",
       "      <td>756</td>\n",
       "    </tr>\n",
       "  </tbody>\n",
       "</table>\n",
       "</div>"
      ],
      "text/plain": [
       "        date group  visitors\n",
       "0 2019-08-01     A       719\n",
       "1 2019-08-02     A       619\n",
       "2 2019-08-03     A       507\n",
       "3 2019-08-04     A       717\n",
       "4 2019-08-05     A       756"
      ]
     },
     "execution_count": 35,
     "metadata": {},
     "output_type": "execute_result"
    }
   ],
   "source": [
    "visitors.head()"
   ]
  },
  {
   "cell_type": "code",
   "execution_count": 36,
   "id": "ca055dc3",
   "metadata": {},
   "outputs": [
    {
     "data": {
      "text/html": [
       "<div>\n",
       "<style scoped>\n",
       "    .dataframe tbody tr th:only-of-type {\n",
       "        vertical-align: middle;\n",
       "    }\n",
       "\n",
       "    .dataframe tbody tr th {\n",
       "        vertical-align: top;\n",
       "    }\n",
       "\n",
       "    .dataframe thead th {\n",
       "        text-align: right;\n",
       "    }\n",
       "</style>\n",
       "<table border=\"1\" class=\"dataframe\">\n",
       "  <thead>\n",
       "    <tr style=\"text-align: right;\">\n",
       "      <th></th>\n",
       "      <th>transactionId</th>\n",
       "      <th>visitorId</th>\n",
       "      <th>date</th>\n",
       "      <th>revenue</th>\n",
       "      <th>group</th>\n",
       "    </tr>\n",
       "  </thead>\n",
       "  <tbody>\n",
       "    <tr>\n",
       "      <th>0</th>\n",
       "      <td>3667963787</td>\n",
       "      <td>3312258926</td>\n",
       "      <td>2019-08-15</td>\n",
       "      <td>1650</td>\n",
       "      <td>B</td>\n",
       "    </tr>\n",
       "    <tr>\n",
       "      <th>1</th>\n",
       "      <td>2804400009</td>\n",
       "      <td>3642806036</td>\n",
       "      <td>2019-08-15</td>\n",
       "      <td>730</td>\n",
       "      <td>B</td>\n",
       "    </tr>\n",
       "    <tr>\n",
       "      <th>2</th>\n",
       "      <td>2961555356</td>\n",
       "      <td>4069496402</td>\n",
       "      <td>2019-08-15</td>\n",
       "      <td>400</td>\n",
       "      <td>A</td>\n",
       "    </tr>\n",
       "    <tr>\n",
       "      <th>3</th>\n",
       "      <td>3797467345</td>\n",
       "      <td>1196621759</td>\n",
       "      <td>2019-08-15</td>\n",
       "      <td>9759</td>\n",
       "      <td>B</td>\n",
       "    </tr>\n",
       "    <tr>\n",
       "      <th>4</th>\n",
       "      <td>2282983706</td>\n",
       "      <td>2322279887</td>\n",
       "      <td>2019-08-15</td>\n",
       "      <td>2308</td>\n",
       "      <td>B</td>\n",
       "    </tr>\n",
       "  </tbody>\n",
       "</table>\n",
       "</div>"
      ],
      "text/plain": [
       "   transactionId   visitorId       date  revenue group\n",
       "0     3667963787  3312258926 2019-08-15     1650     B\n",
       "1     2804400009  3642806036 2019-08-15      730     B\n",
       "2     2961555356  4069496402 2019-08-15      400     A\n",
       "3     3797467345  1196621759 2019-08-15     9759     B\n",
       "4     2282983706  2322279887 2019-08-15     2308     B"
      ]
     },
     "execution_count": 36,
     "metadata": {},
     "output_type": "execute_result"
    }
   ],
   "source": [
    "orders.head()"
   ]
  },
  {
   "cell_type": "code",
   "execution_count": 37,
   "id": "f159bb5a",
   "metadata": {},
   "outputs": [],
   "source": [
    "visitorsADaily = visitors[visitors['group']=='A'][['date', 'visitors']]\n",
    "visitorsADaily.columns = ['date', 'visitorsPerDateA']\n",
    "\n",
    "visitorsACummulative = visitorsADaily.apply(lambda x: visitorsADaily[visitorsADaily['date'] <= x['date']]\n",
    "                                            .agg({'date' : 'max', 'visitorsPerDateA' : 'sum'}), axis=1)\n",
    "visitorsACummulative.columns = ['date', 'visitorsCummulativeA']\n",
    "\n",
    "visitorsBDaily = visitors[visitors['group']=='B'][['date', 'visitors']]\n",
    "visitorsBDaily.columns = ['date', 'visitorsPerDateB']\n",
    "\n",
    "visitorsBCummulative = visitorsBDaily.apply(lambda x: visitorsBDaily[visitorsBDaily['date'] <= x['date']]\n",
    "                                            .agg({'date' : 'max', 'visitorsPerDateB' : 'sum'}), axis=1)\n",
    "visitorsBCummulative.columns = ['date', 'visitorsCummulativeB']\n",
    "\n",
    "\n",
    "ordersADaily = orders[orders['group']=='A'][['date', \n",
    "                                             'transactionId', \n",
    "                                             'visitorId', \n",
    "                                             'revenue']].groupby('date', as_index=False).agg({\n",
    "    'transactionId' : pd.Series.nunique, 'revenue' : 'sum'})\n",
    "ordersADaily.columns = ['date', 'ordersPerDateA', 'revenuePerDateA']\n",
    "\n",
    "ordersACummulative = ordersADaily.apply(lambda x: ordersADaily[ordersADaily['date'] <= x['date']]\n",
    "                                        .agg({'date' : 'max',\n",
    "                                              'ordersPerDateA' : 'sum',\n",
    "                                              'revenuePerDateA' : 'sum'}), axis=1).sort_values(by=['date'])\n",
    "ordersACummulative.columns = ['date', 'ordersCummulativeA', 'revenueCummulativeA']\n",
    "\n",
    "ordersBDaily = orders[orders['group']=='B'][['date', \n",
    "                                             'transactionId', \n",
    "                                             'visitorId', \n",
    "                                             'revenue']].groupby('date', as_index=False).agg({\n",
    "    'transactionId' : pd.Series.nunique, 'revenue' : 'sum'})\n",
    "ordersBDaily.columns = ['date', 'ordersPerDateB', 'revenuePerDateB']\n",
    "\n",
    "ordersBCummulative = ordersBDaily.apply(lambda x: ordersBDaily[ordersBDaily['date'] <= x['date']]\n",
    "                                        .agg({'date' : 'max',\n",
    "                                              'ordersPerDateB' : 'sum',\n",
    "                                              'revenuePerDateB' : 'sum'}), axis=1).sort_values(by=['date'])\n",
    "ordersBCummulative.columns = ['date', 'ordersCummulativeB', 'revenueCummulativeB']"
   ]
  },
  {
   "cell_type": "markdown",
   "id": "8b085348",
   "metadata": {},
   "source": [
    "Объединим все полученные данные в одну таблицу:"
   ]
  },
  {
   "cell_type": "code",
   "execution_count": 38,
   "id": "f849b341",
   "metadata": {},
   "outputs": [
    {
     "data": {
      "text/html": [
       "<div>\n",
       "<style scoped>\n",
       "    .dataframe tbody tr th:only-of-type {\n",
       "        vertical-align: middle;\n",
       "    }\n",
       "\n",
       "    .dataframe tbody tr th {\n",
       "        vertical-align: top;\n",
       "    }\n",
       "\n",
       "    .dataframe thead th {\n",
       "        text-align: right;\n",
       "    }\n",
       "</style>\n",
       "<table border=\"1\" class=\"dataframe\">\n",
       "  <thead>\n",
       "    <tr style=\"text-align: right;\">\n",
       "      <th></th>\n",
       "      <th>date</th>\n",
       "      <th>ordersPerDateA</th>\n",
       "      <th>revenuePerDateA</th>\n",
       "      <th>ordersPerDateB</th>\n",
       "      <th>revenuePerDateB</th>\n",
       "      <th>ordersCummulativeA</th>\n",
       "      <th>revenueCummulativeA</th>\n",
       "      <th>ordersCummulativeB</th>\n",
       "      <th>revenueCummulativeB</th>\n",
       "      <th>visitorsPerDateA</th>\n",
       "      <th>visitorsPerDateB</th>\n",
       "      <th>visitorsCummulativeA</th>\n",
       "      <th>visitorsCummulativeB</th>\n",
       "    </tr>\n",
       "  </thead>\n",
       "  <tbody>\n",
       "    <tr>\n",
       "      <th>24</th>\n",
       "      <td>2019-08-25</td>\n",
       "      <td>10</td>\n",
       "      <td>68634</td>\n",
       "      <td>14</td>\n",
       "      <td>102862</td>\n",
       "      <td>451</td>\n",
       "      <td>3070704</td>\n",
       "      <td>507</td>\n",
       "      <td>4901584</td>\n",
       "      <td>621</td>\n",
       "      <td>679</td>\n",
       "      <td>14943</td>\n",
       "      <td>15127</td>\n",
       "    </tr>\n",
       "    <tr>\n",
       "      <th>17</th>\n",
       "      <td>2019-08-18</td>\n",
       "      <td>17</td>\n",
       "      <td>72398</td>\n",
       "      <td>9</td>\n",
       "      <td>65831</td>\n",
       "      <td>328</td>\n",
       "      <td>2202167</td>\n",
       "      <td>382</td>\n",
       "      <td>2686621</td>\n",
       "      <td>668</td>\n",
       "      <td>737</td>\n",
       "      <td>11127</td>\n",
       "      <td>11171</td>\n",
       "    </tr>\n",
       "    <tr>\n",
       "      <th>18</th>\n",
       "      <td>2019-08-19</td>\n",
       "      <td>22</td>\n",
       "      <td>189743</td>\n",
       "      <td>21</td>\n",
       "      <td>1429920</td>\n",
       "      <td>350</td>\n",
       "      <td>2391910</td>\n",
       "      <td>403</td>\n",
       "      <td>4116541</td>\n",
       "      <td>502</td>\n",
       "      <td>487</td>\n",
       "      <td>11629</td>\n",
       "      <td>11658</td>\n",
       "    </tr>\n",
       "    <tr>\n",
       "      <th>25</th>\n",
       "      <td>2019-08-26</td>\n",
       "      <td>16</td>\n",
       "      <td>157214</td>\n",
       "      <td>25</td>\n",
       "      <td>182999</td>\n",
       "      <td>467</td>\n",
       "      <td>3227918</td>\n",
       "      <td>532</td>\n",
       "      <td>5084583</td>\n",
       "      <td>722</td>\n",
       "      <td>676</td>\n",
       "      <td>15665</td>\n",
       "      <td>15803</td>\n",
       "    </tr>\n",
       "    <tr>\n",
       "      <th>15</th>\n",
       "      <td>2019-08-16</td>\n",
       "      <td>18</td>\n",
       "      <td>99851</td>\n",
       "      <td>20</td>\n",
       "      <td>171690</td>\n",
       "      <td>301</td>\n",
       "      <td>2078908</td>\n",
       "      <td>359</td>\n",
       "      <td>2539635</td>\n",
       "      <td>361</td>\n",
       "      <td>413</td>\n",
       "      <td>10047</td>\n",
       "      <td>10013</td>\n",
       "    </tr>\n",
       "  </tbody>\n",
       "</table>\n",
       "</div>"
      ],
      "text/plain": [
       "         date  ordersPerDateA  revenuePerDateA  ordersPerDateB  \\\n",
       "24 2019-08-25              10            68634              14   \n",
       "17 2019-08-18              17            72398               9   \n",
       "18 2019-08-19              22           189743              21   \n",
       "25 2019-08-26              16           157214              25   \n",
       "15 2019-08-16              18            99851              20   \n",
       "\n",
       "    revenuePerDateB  ordersCummulativeA  revenueCummulativeA  \\\n",
       "24           102862                 451              3070704   \n",
       "17            65831                 328              2202167   \n",
       "18          1429920                 350              2391910   \n",
       "25           182999                 467              3227918   \n",
       "15           171690                 301              2078908   \n",
       "\n",
       "    ordersCummulativeB  revenueCummulativeB  visitorsPerDateA  \\\n",
       "24                 507              4901584               621   \n",
       "17                 382              2686621               668   \n",
       "18                 403              4116541               502   \n",
       "25                 532              5084583               722   \n",
       "15                 359              2539635               361   \n",
       "\n",
       "    visitorsPerDateB  visitorsCummulativeA  visitorsCummulativeB  \n",
       "24               679                 14943                 15127  \n",
       "17               737                 11127                 11171  \n",
       "18               487                 11629                 11658  \n",
       "25               676                 15665                 15803  \n",
       "15               413                 10047                 10013  "
      ]
     },
     "execution_count": 38,
     "metadata": {},
     "output_type": "execute_result"
    }
   ],
   "source": [
    "data = ordersADaily.merge(ordersBDaily, left_on='date', right_on='date', how='left')\\\n",
    "    .merge(ordersACummulative, left_on='date', right_on='date', how='left')\\\n",
    "    .merge(ordersBCummulative, left_on='date', right_on='date', how='left')\\\n",
    "    .merge(visitorsADaily, left_on='date', right_on='date', how='left')\\\n",
    "    .merge(visitorsBDaily, left_on='date', right_on='date', how='left')\\\n",
    "    .merge(visitorsACummulative, left_on='date', right_on='date', how='left')\\\n",
    "    .merge(visitorsBCummulative, left_on='date', right_on='date', how='left')\n",
    "data.sample(5)"
   ]
  },
  {
   "cell_type": "markdown",
   "id": "fc44daad",
   "metadata": {},
   "source": [
    "Применим критерий Манна-Уитни и отформатируем p-value, округлив его до трёх знаков после запятой. В sampleA сохраним выборку, где каждый элемент — число заказов определённого пользователя, в том числе ноль. Значит, число элементов sampleA — это количество пользователей, сумма всех элементов — количество заказов. Чтобы получить конверсию в группе, поделим сумму заказов на число пользователей — найдём среднее в выборке sampleA методом mean(). Аналогично найдём конверсию группы B.\n",
    "Выведем относительный прирост конверсии группы B: конверсия группы B / конверсия группы A - 1. Округлим до трёх знаков после запятой. Пороговое значение alpha = 0.05."
   ]
  },
  {
   "cell_type": "markdown",
   "id": "266b1cf2",
   "metadata": {},
   "source": [
    "Нулевая гипотеза: \n",
    "- Конверсия в группе A равна группе B (статистическая значимость не значительна и сделать вывод о различии нельзя);\n",
    "\n",
    "Альтернативная гипотеза: \n",
    "- Конверсия в группе A не равна группе B (между выборками имеется статистическая значимость);"
   ]
  },
  {
   "cell_type": "code",
   "execution_count": 39,
   "id": "33671a5d",
   "metadata": {},
   "outputs": [
    {
     "name": "stdout",
     "output_type": "stream",
     "text": [
      "alpha = 0.05\n",
      "p-value = 0.017\n",
      "Относительный показатель B и A = 0.138\n"
     ]
    }
   ],
   "source": [
    "ordersByUsersA = orders[orders['group']=='A'].groupby('visitorId', as_index=False).agg({\n",
    "    'transactionId' : pd.Series.nunique})\n",
    "ordersByUsersA.columns = ['userId', 'orders']\n",
    "\n",
    "ordersByUsersB = orders[orders['group']=='B'].groupby('visitorId', as_index=False).agg({\n",
    "    'transactionId' : pd.Series.nunique})\n",
    "ordersByUsersB.columns = ['userId', 'orders']\n",
    "\n",
    "sampleA = pd.concat(\n",
    "    [ordersByUsersA['orders'],pd.Series(0, \n",
    "                                        index=np.arange(data['visitorsPerDateA'].sum() - len(ordersByUsersA['orders'])), \n",
    "                                        name='orders')],axis=0)\n",
    "\n",
    "sampleB = pd.concat(\n",
    "    [ordersByUsersB['orders'],pd.Series(0, \n",
    "                                        index=np.arange(data['visitorsPerDateB'].sum() - len(ordersByUsersB['orders'])), \n",
    "                                        name='orders')],axis=0)\n",
    "\n",
    "print('alpha =', 0.05)\n",
    "print('p-value = {0:.3f}'.format(stats.mannwhitneyu(sampleA, sampleB, alternative = 'two-sided')[1]))\n",
    "print('Относительный показатель B и A = {0:.3f}'.format(sampleB.mean()/sampleA.mean()-1)) "
   ]
  },
  {
   "cell_type": "markdown",
   "id": "62483069",
   "metadata": {},
   "source": [
    "Вывод: \n",
    "- p-value = 0.017 < alpha = 0.05. Получается, нулевую гипотезу отвергаем. Значит по «сырым» данным различия в конверсии групп A и B есть. А относительный выигрыш группы B над A равен 13.8%;"
   ]
  },
  {
   "cell_type": "markdown",
   "id": "c8791d7b",
   "metadata": {},
   "source": [
    "### Статистическая значимость различий в среднем чеке заказа между группами по «сырым» данным"
   ]
  },
  {
   "cell_type": "markdown",
   "id": "3061e100",
   "metadata": {},
   "source": [
    "Посчитаем статистическую значимость различий в среднем чеке заказа между группами по «сырым» данным. "
   ]
  },
  {
   "cell_type": "markdown",
   "id": "ab4ecbcc",
   "metadata": {},
   "source": [
    "Сформулируем гипотезы\n",
    "\n",
    "Нулевая гипотеза: \n",
    "- Средний чек в группе A равен группе B (статистическая значимость не значительна и сделать вывод о различии нельзя);\n",
    "\n",
    "Альтернативная гипотеза: \n",
    "- Средний чек в группе A не равен группе B (между выборками имеется статистическая значимость);\n",
    "\n",
    "Чтобы рассчитать статистическую значимость различий в среднем чеке между группами, передадим критерию mannwhitneyu() данные о выручке с заказов. Пороговое значение alpha = 0.05. И найдём относительные различия в среднем чеке между группами;"
   ]
  },
  {
   "cell_type": "code",
   "execution_count": 40,
   "id": "dbdac43a",
   "metadata": {},
   "outputs": [
    {
     "name": "stdout",
     "output_type": "stream",
     "text": [
      "alpha = 0.05\n",
      "p-value = 0.729\n",
      "Относительный показатель B и A = 0.259\n"
     ]
    }
   ],
   "source": [
    "print('alpha =', 0.05)\n",
    "print('p-value = {0:.3f}'.format(stats.mannwhitneyu(orders[orders['group']=='A']['revenue'], \n",
    "                                                    orders[orders['group']=='B']['revenue'], \n",
    "                                                    alternative = 'two-sided')[1]))\n",
    "print('Относительный показатель B и A = {0:.3f}'.format(orders[orders['group']=='B']['revenue']\n",
    "                                                            .mean()/orders[orders['group']=='A']['revenue'].mean()-1)) "
   ]
  },
  {
   "cell_type": "markdown",
   "id": "8aa42f65",
   "metadata": {},
   "source": [
    "Вывод:\n",
    " - P-value значительно больше 0.05. Значит, причин отвергать нулевую гипотезу и считать, что в среднем чеке есть различия, нет. Относительный прирост среднего чека группы В к группе А равен 26%;"
   ]
  },
  {
   "cell_type": "markdown",
   "id": "30f43a7c",
   "metadata": {},
   "source": [
    "### Cтатистическая значимость различий в конверсии между группами по «очищенным» данным"
   ]
  },
  {
   "cell_type": "markdown",
   "id": "b56d8623",
   "metadata": {},
   "source": [
    "Посчитаем статистическую значимость различий в конверсии между группами по «очищенным» данным. "
   ]
  },
  {
   "cell_type": "markdown",
   "id": "47c62fe4",
   "metadata": {},
   "source": [
    "Напомним, что из предыдущих пунктов мы приняли за аномальных пользователей тех, кто совершил 3 и больше заказов или совершил заказ дороже 58233.2. Сделаем срез пользователей с числом заказов больше 2 и запишем в датафрейм usersWithManyOrders, а пользователей, совершивших заказы дороже 58233.2 в датафрейм usersWithExpensiveOrders. Объединим их в датафрейм abnormalUsers. Узнаем, сколько всего аномальных пользователей методом shape()."
   ]
  },
  {
   "cell_type": "code",
   "execution_count": 41,
   "id": "20476b03",
   "metadata": {},
   "outputs": [],
   "source": [
    "usersWithManyOrders = pd.concat([ordersByUsersA[ordersByUsersA['orders'] > 2]['userId'], \n",
    "                                 ordersByUsersB[ordersByUsersB['orders'] > 2]['userId']], axis = 0)\n",
    "usersWithExpensiveOrders = orders[orders['revenue'] > 58233.2]['visitorId']\n",
    "abnormalUsers = pd.concat([usersWithManyOrders, \n",
    "                           usersWithExpensiveOrders], axis = 0).drop_duplicates().sort_values()"
   ]
  },
  {
   "cell_type": "markdown",
   "id": "66d8c673",
   "metadata": {},
   "source": [
    "Посчитаем статистическую значимость различий в конверсии между группами теста по очищенным данным. Для этого подготовим выборки количества заказов по пользователям по группам теста:"
   ]
  },
  {
   "cell_type": "code",
   "execution_count": 42,
   "id": "510ca9fe",
   "metadata": {},
   "outputs": [],
   "source": [
    "sampleAFiltered = pd.concat(\n",
    "    [ordersByUsersA[np.logical_not(ordersByUsersA['userId'].isin(abnormalUsers))]['orders'], \n",
    "     pd.Series(0, index=np.arange(data['visitorsPerDateA'].sum() - len(ordersByUsersA['orders'])), name='orders')],axis=0)\n",
    "\n",
    "sampleBFiltered = pd.concat(\n",
    "    [ordersByUsersB[np.logical_not(ordersByUsersB['userId'].isin(abnormalUsers))]['orders'],\n",
    "     pd.Series(0, index=np.arange(data['visitorsPerDateB'].sum() - len(ordersByUsersB['orders'])), name='orders')],axis=0) "
   ]
  },
  {
   "cell_type": "markdown",
   "id": "127ceaa6",
   "metadata": {},
   "source": [
    "Сформулируем гипотезы\n",
    "\n",
    "Нулевая гипотеза: \n",
    "- Конверсия в группе A равна группе B (статистическая значимость не значительна и сделать вывод о различии нельзя);\n",
    "\n",
    "Альтернативная гипотеза: \n",
    "- Конверсия в группе A не равна группе B (между выборками имеется статистическая значимость);\n",
    "\n",
    "Применим критерием Манна-Уитни. Порогом статистической значимости установим alpha = 0.05;"
   ]
  },
  {
   "cell_type": "code",
   "execution_count": 43,
   "id": "70ad1a98",
   "metadata": {},
   "outputs": [
    {
     "name": "stdout",
     "output_type": "stream",
     "text": [
      "alpha = 0.05\n",
      "p-value = 0.010\n",
      "Относительный показатель B и A = 0.174\n"
     ]
    }
   ],
   "source": [
    "print('alpha =', 0.05)\n",
    "print('p-value = {0:.3f}'.format(stats.mannwhitneyu(sampleAFiltered, sampleBFiltered, alternative = 'two-sided')[1]))\n",
    "print('Относительный показатель B и A = {0:.3f}'.format(sampleBFiltered.mean()/sampleAFiltered.mean()-1)) "
   ]
  },
  {
   "cell_type": "markdown",
   "id": "7b0d3c14",
   "metadata": {},
   "source": [
    "Вывод:\n",
    "\n",
    "- р-value значительно меньше 0.05, не получилось подтвердить нулевую гипотезу. Конверсия в группе A не равна группе B (между выборками имеется статистическая значимость).\n",
    "Относительный прирост среднего группы В к конверсии группы А равен 17,4%. Выше, чем с «сырыми» данными - 13.8%;"
   ]
  },
  {
   "cell_type": "markdown",
   "id": "50828a4d",
   "metadata": {},
   "source": [
    "### Статистическая значимость различий в среднем чеке заказа между группами по «очищенным» данным"
   ]
  },
  {
   "cell_type": "markdown",
   "id": "af0d37f7",
   "metadata": {},
   "source": [
    "Посчитаем статистическую значимость различий в среднем чеке заказа между группами по «очищенным» данным. "
   ]
  },
  {
   "cell_type": "markdown",
   "id": "79bab4c3",
   "metadata": {},
   "source": [
    "Сформулируем гипотезы\n",
    "\n",
    "Нулевая гипотеза: \n",
    "- Средний чек в группе A равен группе B (статистическая значимость не значительна и сделать вывод о различии нельзя);\n",
    "\n",
    "Альтернативная гипотеза: \n",
    "- Средний чек в группе A не равен группе B (между выборками имеется статистическая значимость);\n",
    "\n",
    "Применим критерием Манна-Уитни. Порогом статистической значимости установим alpha = 0.05;"
   ]
  },
  {
   "cell_type": "code",
   "execution_count": 44,
   "id": "bf544fd8",
   "metadata": {},
   "outputs": [
    {
     "name": "stdout",
     "output_type": "stream",
     "text": [
      "alpha = 0.05\n",
      "p-value = 0.798\n",
      "Относительный показатель B и A = -0.020\n"
     ]
    }
   ],
   "source": [
    "print('alpha =', 0.05)\n",
    "print('p-value = {0:.3f}'.format(stats.mannwhitneyu(\n",
    "    orders[np.logical_and(\n",
    "        orders['group']=='A',\n",
    "        np.logical_not(orders['visitorId'].isin(abnormalUsers)))]['revenue'],\n",
    "    orders[np.logical_and(orders['group']=='B',\n",
    "                          np.logical_not(orders['visitorId'].isin(abnormalUsers)))]['revenue'], \n",
    "    alternative = 'two-sided')[1]))\n",
    "\n",
    "print('Относительный показатель B и A = {0:.3f}'.format(\n",
    "    orders[np.logical_and(orders['group']=='B',\n",
    "                          np.logical_not(\n",
    "                              orders['visitorId'].isin(abnormalUsers)))]['revenue'].mean() / orders[np.logical_and(\n",
    "        orders['group']=='A',\n",
    "        np.logical_not(orders['visitorId'].isin(abnormalUsers)))]['revenue'].mean() - 1)) "
   ]
  },
  {
   "cell_type": "markdown",
   "id": "0e33ee85",
   "metadata": {},
   "source": [
    "Вывод:\n",
    "\n",
    "- р-value значительно больше 0.05. не получилось отвергнуть нулевую гипотезу. Как и в случае с \"сырыми\" данными. А вот средний чек группы B оказался незначительно (на 2%) ниже среднего чека группы A, в то время как по \"сырым\" данным, он был больше на 26%;"
   ]
  },
  {
   "cell_type": "markdown",
   "id": "daeb3f3f",
   "metadata": {},
   "source": [
    "## Итоговый вывод"
   ]
  },
  {
   "cell_type": "markdown",
   "id": "424b1710",
   "metadata": {},
   "source": [
    "Было проведено А/В-тестирование для команды маркетологов с целью выявить успешность проведения эксперимента."
   ]
  },
  {
   "cell_type": "markdown",
   "id": "08805aa7",
   "metadata": {},
   "source": [
    "### Этапы исследования"
   ]
  },
  {
   "cell_type": "markdown",
   "id": "8a22d6aa",
   "metadata": {},
   "source": [
    "#### Блок по подготовке данных:"
   ]
  },
  {
   "cell_type": "markdown",
   "id": "cc25cdc1",
   "metadata": {},
   "source": [
    "- импортировал необходимые библиотеки;\n",
    "- ознакомился с данными;\n",
    "- привел названия столбцов к нижнему регистру;\n",
    "- изучил пропуски в данных;\n",
    "- произвел поиск дубликатов;\n",
    "- изменил тип данных;"
   ]
  },
  {
   "cell_type": "markdown",
   "id": "13fe8430",
   "metadata": {},
   "source": [
    "#### Приоритезации гипотез:"
   ]
  },
  {
   "cell_type": "markdown",
   "id": "ffca257a",
   "metadata": {},
   "source": [
    "Приоритезировал гипотезы\n",
    "- гипотеза под индексом 7 наиболее рекомендуемая к проведению по всем критериям;"
   ]
  },
  {
   "cell_type": "markdown",
   "id": "992ed221",
   "metadata": {},
   "source": [
    "#### Блок проведения А/В-теста:"
   ]
  },
  {
   "cell_type": "markdown",
   "id": "17ffea55",
   "metadata": {},
   "source": [
    "По результатам тестирования было выявлено:\n",
    "- И по \"сырым\" и по \"очищенным\" данным различия в конверсии групп A и B есть. Относительный выигрыш группы B над A равен 17,4% по \"очищенным\" и 13.8% по \"сырым\" данным;\n",
    "\n",
    "- По \"сырым\" и по \"очищенным\" данным средний чек не имеет значимых различий между группами. Несмотря на то, что средний чек группы B оказался на 2% ниже среднего чека группы A по \"очищенным\" данным, но по \"сырым\" данным, он был больше  на 26%, и всё это из-за выбросов;"
   ]
  },
  {
   "cell_type": "markdown",
   "id": "757b16a6",
   "metadata": {},
   "source": [
    "Результаты вполне однозначны. Тест можно остановить и считать успешно пройденным. Группа B значительно эффективнее группы A по конверсии, хотя по среднему чеку группы равны."
   ]
  },
  {
   "cell_type": "code",
   "execution_count": null,
   "id": "0bf8b3f9",
   "metadata": {},
   "outputs": [],
   "source": []
  }
 ],
 "metadata": {
  "ExecuteTimeLog": [
   {
    "duration": 1525,
    "start_time": "2022-12-06T06:17:51.699Z"
   },
   {
    "duration": 19,
    "start_time": "2022-12-06T06:17:53.227Z"
   },
   {
    "duration": 22,
    "start_time": "2022-12-06T06:17:53.247Z"
   },
   {
    "duration": 22,
    "start_time": "2022-12-06T06:17:53.272Z"
   },
   {
    "duration": 46,
    "start_time": "2022-12-06T06:17:53.295Z"
   },
   {
    "duration": 28,
    "start_time": "2022-12-06T06:17:53.343Z"
   },
   {
    "duration": 20,
    "start_time": "2022-12-06T06:17:53.373Z"
   },
   {
    "duration": 33,
    "start_time": "2022-12-06T06:17:53.395Z"
   },
   {
    "duration": 4,
    "start_time": "2022-12-06T06:17:53.845Z"
   },
   {
    "duration": 5,
    "start_time": "2022-12-06T06:17:54.350Z"
   },
   {
    "duration": 7,
    "start_time": "2022-12-06T06:17:54.790Z"
   },
   {
    "duration": 6,
    "start_time": "2022-12-06T06:17:55.102Z"
   },
   {
    "duration": 5,
    "start_time": "2022-12-06T06:17:55.589Z"
   },
   {
    "duration": 6,
    "start_time": "2022-12-06T06:17:56.102Z"
   },
   {
    "duration": 19,
    "start_time": "2022-12-06T06:17:56.606Z"
   },
   {
    "duration": 16,
    "start_time": "2022-12-06T06:17:56.783Z"
   },
   {
    "duration": 12,
    "start_time": "2022-12-06T06:17:56.967Z"
   },
   {
    "duration": 120,
    "start_time": "2022-12-06T06:17:58.436Z"
   },
   {
    "duration": 37,
    "start_time": "2022-12-06T06:18:06.814Z"
   },
   {
    "duration": 1129,
    "start_time": "2022-12-06T06:31:46.713Z"
   },
   {
    "duration": 19,
    "start_time": "2022-12-06T06:31:47.844Z"
   },
   {
    "duration": 16,
    "start_time": "2022-12-06T06:31:47.865Z"
   },
   {
    "duration": 4,
    "start_time": "2022-12-06T06:31:47.883Z"
   },
   {
    "duration": 48,
    "start_time": "2022-12-06T06:31:47.889Z"
   },
   {
    "duration": 15,
    "start_time": "2022-12-06T06:31:47.939Z"
   },
   {
    "duration": 21,
    "start_time": "2022-12-06T06:31:47.956Z"
   },
   {
    "duration": 28,
    "start_time": "2022-12-06T06:31:47.979Z"
   },
   {
    "duration": 8,
    "start_time": "2022-12-06T06:31:48.009Z"
   },
   {
    "duration": 15,
    "start_time": "2022-12-06T06:31:48.020Z"
   },
   {
    "duration": 10,
    "start_time": "2022-12-06T06:31:48.036Z"
   },
   {
    "duration": 12,
    "start_time": "2022-12-06T06:31:48.048Z"
   },
   {
    "duration": 10,
    "start_time": "2022-12-06T06:31:48.062Z"
   },
   {
    "duration": 6,
    "start_time": "2022-12-06T06:31:48.074Z"
   },
   {
    "duration": 15,
    "start_time": "2022-12-06T06:31:48.082Z"
   },
   {
    "duration": 15,
    "start_time": "2022-12-06T06:31:48.098Z"
   },
   {
    "duration": 9,
    "start_time": "2022-12-06T06:31:48.136Z"
   },
   {
    "duration": 221,
    "start_time": "2022-12-06T06:31:48.147Z"
   },
   {
    "duration": 330,
    "start_time": "2022-12-06T06:31:48.370Z"
   },
   {
    "duration": 12,
    "start_time": "2022-12-06T06:31:48.701Z"
   },
   {
    "duration": 21,
    "start_time": "2022-12-06T06:31:48.715Z"
   },
   {
    "duration": 166,
    "start_time": "2022-12-06T06:31:48.738Z"
   },
   {
    "duration": 5,
    "start_time": "2022-12-06T06:31:48.906Z"
   },
   {
    "duration": 32,
    "start_time": "2022-12-06T06:31:48.912Z"
   },
   {
    "duration": 2041,
    "start_time": "2022-12-06T06:31:48.946Z"
   },
   {
    "duration": 8,
    "start_time": "2022-12-06T06:31:50.988Z"
   },
   {
    "duration": 387,
    "start_time": "2022-12-06T06:31:50.998Z"
   },
   {
    "duration": 293,
    "start_time": "2022-12-06T06:31:51.389Z"
   },
   {
    "duration": 373,
    "start_time": "2022-12-06T06:31:51.684Z"
   },
   {
    "duration": 128,
    "start_time": "2022-12-06T06:31:52.059Z"
   },
   {
    "duration": 7,
    "start_time": "2022-12-06T06:31:52.189Z"
   },
   {
    "duration": 31,
    "start_time": "2022-12-06T06:31:52.198Z"
   },
   {
    "duration": 16,
    "start_time": "2022-12-06T06:31:52.231Z"
   },
   {
    "duration": 23,
    "start_time": "2022-12-06T06:31:52.249Z"
   },
   {
    "duration": 14,
    "start_time": "2022-12-06T06:31:52.274Z"
   },
   {
    "duration": 16,
    "start_time": "2022-12-06T06:31:52.290Z"
   },
   {
    "duration": 21,
    "start_time": "2022-12-06T06:31:52.308Z"
   },
   {
    "duration": 13,
    "start_time": "2022-12-06T06:31:52.331Z"
   },
   {
    "duration": 15,
    "start_time": "2022-12-06T06:31:52.345Z"
   },
   {
    "duration": 12,
    "start_time": "2022-12-06T06:31:52.362Z"
   },
   {
    "duration": 14,
    "start_time": "2022-12-06T06:31:52.376Z"
   },
   {
    "duration": 35,
    "start_time": "2022-12-06T06:31:52.392Z"
   },
   {
    "duration": 250,
    "start_time": "2022-12-06T06:31:52.429Z"
   },
   {
    "duration": 181,
    "start_time": "2022-12-06T06:31:52.681Z"
   },
   {
    "duration": 355,
    "start_time": "2022-12-06T06:31:52.864Z"
   },
   {
    "duration": 193,
    "start_time": "2022-12-06T06:31:53.221Z"
   },
   {
    "duration": 320,
    "start_time": "2022-12-06T06:31:53.416Z"
   },
   {
    "duration": 193,
    "start_time": "2022-12-06T06:31:53.737Z"
   },
   {
    "duration": 186,
    "start_time": "2022-12-06T06:31:53.932Z"
   },
   {
    "duration": 188,
    "start_time": "2022-12-06T06:31:54.120Z"
   },
   {
    "duration": 188,
    "start_time": "2022-12-06T06:31:54.310Z"
   },
   {
    "duration": 16,
    "start_time": "2022-12-06T06:31:54.500Z"
   },
   {
    "duration": 190,
    "start_time": "2022-12-06T06:31:54.519Z"
   },
   {
    "duration": 6,
    "start_time": "2022-12-06T06:31:54.711Z"
   },
   {
    "duration": 19,
    "start_time": "2022-12-06T06:31:54.719Z"
   },
   {
    "duration": 19,
    "start_time": "2022-12-06T06:31:54.740Z"
   },
   {
    "duration": 16,
    "start_time": "2022-12-06T06:31:54.760Z"
   },
   {
    "duration": 18,
    "start_time": "2022-12-06T06:31:54.778Z"
   },
   {
    "duration": 26,
    "start_time": "2022-12-06T06:31:54.798Z"
   },
   {
    "duration": 17,
    "start_time": "2022-12-06T06:31:54.826Z"
   },
   {
    "duration": 17,
    "start_time": "2022-12-06T06:31:54.845Z"
   },
   {
    "duration": 9,
    "start_time": "2022-12-06T06:31:54.865Z"
   },
   {
    "duration": 14,
    "start_time": "2022-12-06T06:31:54.876Z"
   },
   {
    "duration": 52,
    "start_time": "2022-12-09T07:53:57.740Z"
   },
   {
    "duration": 1382,
    "start_time": "2022-12-09T07:54:01.708Z"
   },
   {
    "duration": 144,
    "start_time": "2022-12-09T07:54:03.093Z"
   },
   {
    "duration": 22,
    "start_time": "2022-12-09T07:54:03.239Z"
   },
   {
    "duration": 15,
    "start_time": "2022-12-09T07:54:03.263Z"
   },
   {
    "duration": 66,
    "start_time": "2022-12-09T07:54:03.279Z"
   },
   {
    "duration": 3,
    "start_time": "2022-12-09T07:54:03.347Z"
   },
   {
    "duration": 29,
    "start_time": "2022-12-09T07:54:03.352Z"
   },
   {
    "duration": 14,
    "start_time": "2022-12-09T07:54:03.382Z"
   },
   {
    "duration": 18,
    "start_time": "2022-12-09T07:54:03.398Z"
   },
   {
    "duration": 23,
    "start_time": "2022-12-09T07:54:03.419Z"
   },
   {
    "duration": 21,
    "start_time": "2022-12-09T07:54:03.444Z"
   },
   {
    "duration": 31,
    "start_time": "2022-12-09T07:54:03.467Z"
   },
   {
    "duration": 16,
    "start_time": "2022-12-09T07:54:03.501Z"
   },
   {
    "duration": 38,
    "start_time": "2022-12-09T07:54:03.519Z"
   },
   {
    "duration": 16,
    "start_time": "2022-12-09T07:54:03.559Z"
   },
   {
    "duration": 19,
    "start_time": "2022-12-09T07:54:03.577Z"
   },
   {
    "duration": 38,
    "start_time": "2022-12-09T07:54:03.598Z"
   },
   {
    "duration": 8,
    "start_time": "2022-12-09T07:54:03.638Z"
   },
   {
    "duration": 14,
    "start_time": "2022-12-09T07:54:03.648Z"
   },
   {
    "duration": 38,
    "start_time": "2022-12-09T07:54:03.664Z"
   },
   {
    "duration": 1183,
    "start_time": "2022-12-09T07:54:03.704Z"
   },
   {
    "duration": 482,
    "start_time": "2022-12-09T07:54:04.888Z"
   },
   {
    "duration": 187,
    "start_time": "2022-12-09T07:54:05.372Z"
   },
   {
    "duration": 269,
    "start_time": "2022-12-09T07:54:05.561Z"
   },
   {
    "duration": 58,
    "start_time": "2022-12-09T07:54:05.831Z"
   },
   {
    "duration": 65,
    "start_time": "2022-12-09T07:54:05.890Z"
   },
   {
    "duration": 21,
    "start_time": "2022-12-09T07:54:05.957Z"
   },
   {
    "duration": 51,
    "start_time": "2022-12-09T07:54:05.984Z"
   },
   {
    "duration": 39,
    "start_time": "2022-12-09T07:54:06.039Z"
   },
   {
    "duration": 41,
    "start_time": "2022-12-09T07:54:06.081Z"
   },
   {
    "duration": 82,
    "start_time": "2022-12-09T07:54:06.124Z"
   },
   {
    "duration": 64,
    "start_time": "2022-12-09T07:54:06.208Z"
   },
   {
    "duration": 21,
    "start_time": "2022-12-09T07:54:06.274Z"
   },
   {
    "duration": 41,
    "start_time": "2022-12-09T07:54:06.297Z"
   },
   {
    "duration": 257,
    "start_time": "2022-12-09T07:54:06.340Z"
   },
   {
    "duration": 385,
    "start_time": "2022-12-09T07:54:06.599Z"
   },
   {
    "duration": 11,
    "start_time": "2022-12-09T07:54:06.985Z"
   },
   {
    "duration": 34,
    "start_time": "2022-12-09T07:54:06.998Z"
   },
   {
    "duration": 64,
    "start_time": "2022-12-09T07:54:07.034Z"
   },
   {
    "duration": 146,
    "start_time": "2022-12-09T07:54:07.100Z"
   },
   {
    "duration": 3,
    "start_time": "2022-12-09T07:54:07.248Z"
   },
   {
    "duration": 29,
    "start_time": "2022-12-09T07:54:07.253Z"
   },
   {
    "duration": 37,
    "start_time": "2022-12-09T07:54:07.283Z"
   },
   {
    "duration": 389,
    "start_time": "2022-12-09T07:54:07.322Z"
   },
   {
    "duration": 7,
    "start_time": "2022-12-09T07:54:07.713Z"
   },
   {
    "duration": 325,
    "start_time": "2022-12-09T07:54:07.722Z"
   },
   {
    "duration": 299,
    "start_time": "2022-12-09T07:54:08.049Z"
   },
   {
    "duration": 222,
    "start_time": "2022-12-09T07:54:08.350Z"
   },
   {
    "duration": 151,
    "start_time": "2022-12-09T07:54:08.574Z"
   },
   {
    "duration": 1637,
    "start_time": "2022-12-09T07:54:08.726Z"
   },
   {
    "duration": 10,
    "start_time": "2022-12-09T07:54:10.365Z"
   },
   {
    "duration": 43,
    "start_time": "2022-12-09T07:54:10.377Z"
   },
   {
    "duration": 34,
    "start_time": "2022-12-09T07:54:10.422Z"
   },
   {
    "duration": 13,
    "start_time": "2022-12-09T07:54:10.458Z"
   },
   {
    "duration": 13,
    "start_time": "2022-12-09T07:54:10.472Z"
   },
   {
    "duration": 35,
    "start_time": "2022-12-09T07:54:10.487Z"
   },
   {
    "duration": 12,
    "start_time": "2022-12-09T07:54:10.524Z"
   },
   {
    "duration": 211,
    "start_time": "2022-12-09T07:54:10.538Z"
   },
   {
    "duration": 201,
    "start_time": "2022-12-09T07:54:10.751Z"
   },
   {
    "duration": 299,
    "start_time": "2022-12-09T07:54:10.954Z"
   },
   {
    "duration": 21,
    "start_time": "2022-12-09T07:54:11.255Z"
   },
   {
    "duration": 253,
    "start_time": "2022-12-09T07:54:11.278Z"
   },
   {
    "duration": 21,
    "start_time": "2022-12-09T07:54:11.534Z"
   },
   {
    "duration": 248,
    "start_time": "2022-12-09T07:54:11.557Z"
   },
   {
    "duration": 18,
    "start_time": "2022-12-09T07:54:11.806Z"
   },
   {
    "duration": 325,
    "start_time": "2022-12-09T07:54:11.836Z"
   },
   {
    "duration": 660,
    "start_time": "2022-12-09T07:54:12.162Z"
   },
   {
    "duration": 11,
    "start_time": "2022-12-09T07:54:12.824Z"
   },
   {
    "duration": 14,
    "start_time": "2022-12-09T07:54:12.837Z"
   },
   {
    "duration": 10,
    "start_time": "2022-12-09T07:54:12.852Z"
   },
   {
    "duration": 19,
    "start_time": "2022-12-09T07:54:12.863Z"
   },
   {
    "duration": 18,
    "start_time": "2022-12-09T07:54:12.883Z"
   },
   {
    "duration": 26,
    "start_time": "2022-12-09T07:54:12.902Z"
   },
   {
    "duration": 18,
    "start_time": "2022-12-09T07:54:12.929Z"
   },
   {
    "duration": 20,
    "start_time": "2022-12-09T07:54:12.949Z"
   },
   {
    "duration": 13,
    "start_time": "2022-12-09T07:54:12.970Z"
   },
   {
    "duration": 12,
    "start_time": "2022-12-09T07:54:12.985Z"
   },
   {
    "duration": 600,
    "start_time": "2022-12-09T07:54:29.037Z"
   },
   {
    "duration": 1236,
    "start_time": "2023-01-19T21:34:15.962Z"
   },
   {
    "duration": 1012,
    "start_time": "2023-01-19T21:34:17.200Z"
   },
   {
    "duration": 32,
    "start_time": "2023-01-19T21:34:18.214Z"
   },
   {
    "duration": 13,
    "start_time": "2023-01-19T21:34:18.249Z"
   },
   {
    "duration": 17,
    "start_time": "2023-01-19T21:34:18.264Z"
   },
   {
    "duration": 91,
    "start_time": "2023-01-19T21:34:18.283Z"
   },
   {
    "duration": 42,
    "start_time": "2023-01-19T21:34:18.376Z"
   },
   {
    "duration": 4,
    "start_time": "2023-01-19T21:34:18.420Z"
   },
   {
    "duration": 19,
    "start_time": "2023-01-19T21:34:18.426Z"
   },
   {
    "duration": 36,
    "start_time": "2023-01-19T21:34:18.449Z"
   },
   {
    "duration": 70,
    "start_time": "2023-01-19T21:34:18.488Z"
   },
   {
    "duration": 283,
    "start_time": "2023-01-19T21:34:18.560Z"
   },
   {
    "duration": 83,
    "start_time": "2023-01-19T21:34:18.845Z"
   },
   {
    "duration": 85,
    "start_time": "2023-01-19T21:34:18.930Z"
   },
   {
    "duration": 88,
    "start_time": "2023-01-19T21:34:19.017Z"
   },
   {
    "duration": 13,
    "start_time": "2023-01-19T21:34:19.107Z"
   },
   {
    "duration": 9,
    "start_time": "2023-01-19T21:34:19.121Z"
   },
   {
    "duration": 7,
    "start_time": "2023-01-19T21:34:19.132Z"
   },
   {
    "duration": 13,
    "start_time": "2023-01-19T21:34:19.141Z"
   },
   {
    "duration": 13,
    "start_time": "2023-01-19T21:34:19.156Z"
   },
   {
    "duration": 29,
    "start_time": "2023-01-19T21:34:19.171Z"
   },
   {
    "duration": 9,
    "start_time": "2023-01-19T21:34:19.202Z"
   },
   {
    "duration": 13,
    "start_time": "2023-01-19T21:34:19.213Z"
   },
   {
    "duration": 7,
    "start_time": "2023-01-19T21:34:19.229Z"
   },
   {
    "duration": 15,
    "start_time": "2023-01-19T21:34:19.238Z"
   },
   {
    "duration": 513,
    "start_time": "2023-01-19T21:34:19.255Z"
   },
   {
    "duration": 2,
    "start_time": "2023-01-19T21:34:19.770Z"
   },
   {
    "duration": 23,
    "start_time": "2023-01-19T21:34:19.778Z"
   },
   {
    "duration": 22,
    "start_time": "2023-01-19T21:34:19.803Z"
   },
   {
    "duration": 8,
    "start_time": "2023-01-19T21:34:19.828Z"
   },
   {
    "duration": 310,
    "start_time": "2023-01-19T21:34:19.838Z"
   },
   {
    "duration": 170,
    "start_time": "2023-01-19T21:34:20.150Z"
   },
   {
    "duration": 302,
    "start_time": "2023-01-19T21:34:20.322Z"
   },
   {
    "duration": 5,
    "start_time": "2023-01-19T21:34:20.626Z"
   },
   {
    "duration": 60,
    "start_time": "2023-01-19T21:34:20.633Z"
   },
   {
    "duration": 163,
    "start_time": "2023-01-19T21:34:20.695Z"
   },
   {
    "duration": 34,
    "start_time": "2023-01-19T21:34:20.861Z"
   },
   {
    "duration": 214,
    "start_time": "2023-01-19T21:34:20.897Z"
   },
   {
    "duration": 20,
    "start_time": "2023-01-19T21:34:21.113Z"
   },
   {
    "duration": 36,
    "start_time": "2023-01-19T21:34:21.135Z"
   },
   {
    "duration": 950,
    "start_time": "2023-01-19T21:34:21.172Z"
   },
   {
    "duration": 108,
    "start_time": "2023-01-19T21:34:22.124Z"
   },
   {
    "duration": 42,
    "start_time": "2023-01-19T21:34:22.234Z"
   },
   {
    "duration": 77,
    "start_time": "2023-01-19T21:34:22.292Z"
   },
   {
    "duration": 819,
    "start_time": "2023-01-19T21:34:22.370Z"
   },
   {
    "duration": 584,
    "start_time": "2023-01-19T21:34:23.191Z"
   },
   {
    "duration": 1721,
    "start_time": "2023-01-19T21:34:23.777Z"
   },
   {
    "duration": 886,
    "start_time": "2023-01-19T21:34:25.500Z"
   },
   {
    "duration": 890,
    "start_time": "2023-01-19T21:34:26.388Z"
   },
   {
    "duration": 1038,
    "start_time": "2023-01-19T21:34:27.280Z"
   },
   {
    "duration": 1463,
    "start_time": "2023-01-19T21:34:28.320Z"
   },
   {
    "duration": 1602,
    "start_time": "2023-01-19T21:34:29.786Z"
   },
   {
    "duration": 1858,
    "start_time": "2023-01-19T21:34:31.389Z"
   },
   {
    "duration": 1687,
    "start_time": "2023-01-19T21:34:33.249Z"
   },
   {
    "duration": 2376,
    "start_time": "2023-01-19T21:34:34.937Z"
   },
   {
    "duration": 1805,
    "start_time": "2023-01-19T21:34:37.314Z"
   },
   {
    "duration": 14,
    "start_time": "2023-01-19T21:34:39.121Z"
   },
   {
    "duration": 1813,
    "start_time": "2023-01-19T21:34:39.137Z"
   },
   {
    "duration": 1305,
    "start_time": "2023-01-21T22:35:46.540Z"
   },
   {
    "duration": 922,
    "start_time": "2023-01-21T22:35:47.848Z"
   },
   {
    "duration": 28,
    "start_time": "2023-01-21T22:35:48.771Z"
   },
   {
    "duration": 12,
    "start_time": "2023-01-21T22:35:48.802Z"
   },
   {
    "duration": 17,
    "start_time": "2023-01-21T22:35:48.816Z"
   },
   {
    "duration": 138,
    "start_time": "2023-01-21T22:35:48.835Z"
   },
   {
    "duration": 4,
    "start_time": "2023-01-21T22:35:48.974Z"
   },
   {
    "duration": 9,
    "start_time": "2023-01-21T22:35:48.980Z"
   },
   {
    "duration": 7,
    "start_time": "2023-01-21T22:35:48.991Z"
   },
   {
    "duration": 49,
    "start_time": "2023-01-21T22:35:49.001Z"
   },
   {
    "duration": 142,
    "start_time": "2023-01-21T22:35:49.051Z"
   },
   {
    "duration": 421,
    "start_time": "2023-01-21T22:35:49.195Z"
   },
   {
    "duration": 135,
    "start_time": "2023-01-21T22:35:49.618Z"
   },
   {
    "duration": 119,
    "start_time": "2023-01-21T22:35:49.755Z"
   },
   {
    "duration": 110,
    "start_time": "2023-01-21T22:35:49.876Z"
   },
   {
    "duration": 18,
    "start_time": "2023-01-21T22:35:49.988Z"
   },
   {
    "duration": 10,
    "start_time": "2023-01-21T22:35:50.009Z"
   },
   {
    "duration": 30,
    "start_time": "2023-01-21T22:35:50.021Z"
   },
   {
    "duration": 18,
    "start_time": "2023-01-21T22:35:50.053Z"
   },
   {
    "duration": 18,
    "start_time": "2023-01-21T22:35:50.073Z"
   },
   {
    "duration": 15,
    "start_time": "2023-01-21T22:35:50.093Z"
   },
   {
    "duration": 17,
    "start_time": "2023-01-21T22:35:50.110Z"
   },
   {
    "duration": 20,
    "start_time": "2023-01-21T22:35:50.129Z"
   },
   {
    "duration": 8,
    "start_time": "2023-01-21T22:35:50.151Z"
   },
   {
    "duration": 16,
    "start_time": "2023-01-21T22:35:50.161Z"
   },
   {
    "duration": 619,
    "start_time": "2023-01-21T22:35:50.179Z"
   },
   {
    "duration": 47,
    "start_time": "2023-01-21T22:35:50.802Z"
   },
   {
    "duration": 30,
    "start_time": "2023-01-21T22:35:50.856Z"
   },
   {
    "duration": 46,
    "start_time": "2023-01-21T22:35:50.888Z"
   },
   {
    "duration": 20,
    "start_time": "2023-01-21T22:35:50.936Z"
   },
   {
    "duration": 20,
    "start_time": "2023-01-21T22:35:50.958Z"
   },
   {
    "duration": 302,
    "start_time": "2023-01-21T22:35:50.980Z"
   },
   {
    "duration": 211,
    "start_time": "2023-01-21T22:35:51.284Z"
   },
   {
    "duration": 300,
    "start_time": "2023-01-21T22:35:51.497Z"
   },
   {
    "duration": 5,
    "start_time": "2023-01-21T22:35:51.799Z"
   },
   {
    "duration": 43,
    "start_time": "2023-01-21T22:35:51.806Z"
   },
   {
    "duration": 183,
    "start_time": "2023-01-21T22:35:51.851Z"
   },
   {
    "duration": 32,
    "start_time": "2023-01-21T22:35:52.036Z"
   },
   {
    "duration": 290,
    "start_time": "2023-01-21T22:35:52.070Z"
   },
   {
    "duration": 22,
    "start_time": "2023-01-21T22:35:52.362Z"
   },
   {
    "duration": 29,
    "start_time": "2023-01-21T22:35:52.386Z"
   },
   {
    "duration": 1013,
    "start_time": "2023-01-21T22:35:52.418Z"
   },
   {
    "duration": 41,
    "start_time": "2023-01-21T22:35:53.433Z"
   },
   {
    "duration": 76,
    "start_time": "2023-01-21T22:35:53.478Z"
   },
   {
    "duration": 33,
    "start_time": "2023-01-21T22:35:53.556Z"
   },
   {
    "duration": 87,
    "start_time": "2023-01-21T22:35:53.591Z"
   },
   {
    "duration": 1022,
    "start_time": "2023-01-21T22:35:53.680Z"
   },
   {
    "duration": 803,
    "start_time": "2023-01-21T22:35:54.705Z"
   },
   {
    "duration": 1774,
    "start_time": "2023-01-21T22:35:55.510Z"
   },
   {
    "duration": 921,
    "start_time": "2023-01-21T22:35:57.286Z"
   },
   {
    "duration": 874,
    "start_time": "2023-01-21T22:35:58.209Z"
   },
   {
    "duration": 1177,
    "start_time": "2023-01-21T22:35:59.085Z"
   },
   {
    "duration": 1705,
    "start_time": "2023-01-21T22:36:00.264Z"
   },
   {
    "duration": 1485,
    "start_time": "2023-01-21T22:36:01.973Z"
   },
   {
    "duration": 1597,
    "start_time": "2023-01-21T22:36:03.460Z"
   },
   {
    "duration": 1937,
    "start_time": "2023-01-21T22:36:05.059Z"
   },
   {
    "duration": 2504,
    "start_time": "2023-01-21T22:36:06.999Z"
   },
   {
    "duration": 1775,
    "start_time": "2023-01-21T22:36:09.505Z"
   },
   {
    "duration": 15,
    "start_time": "2023-01-21T22:36:11.282Z"
   },
   {
    "duration": 1801,
    "start_time": "2023-01-21T22:36:11.299Z"
   },
   {
    "duration": 1248,
    "start_time": "2023-02-13T06:30:52.753Z"
   },
   {
    "duration": 189,
    "start_time": "2023-02-13T06:30:54.003Z"
   },
   {
    "duration": 12,
    "start_time": "2023-02-13T06:30:54.194Z"
   },
   {
    "duration": 12,
    "start_time": "2023-02-13T06:30:54.209Z"
   },
   {
    "duration": 11,
    "start_time": "2023-02-13T06:30:54.224Z"
   },
   {
    "duration": 28,
    "start_time": "2023-02-13T06:30:54.237Z"
   },
   {
    "duration": 3,
    "start_time": "2023-02-13T06:30:54.267Z"
   },
   {
    "duration": 49,
    "start_time": "2023-02-13T06:30:54.272Z"
   },
   {
    "duration": 15,
    "start_time": "2023-02-13T06:30:54.322Z"
   },
   {
    "duration": 5,
    "start_time": "2023-02-13T06:30:54.338Z"
   },
   {
    "duration": 6,
    "start_time": "2023-02-13T06:30:54.345Z"
   },
   {
    "duration": 12,
    "start_time": "2023-02-13T06:30:54.353Z"
   },
   {
    "duration": 45,
    "start_time": "2023-02-13T06:30:54.366Z"
   },
   {
    "duration": 4,
    "start_time": "2023-02-13T06:30:54.414Z"
   },
   {
    "duration": 20,
    "start_time": "2023-02-13T06:30:54.419Z"
   },
   {
    "duration": 7,
    "start_time": "2023-02-13T06:30:54.441Z"
   },
   {
    "duration": 14,
    "start_time": "2023-02-13T06:30:54.450Z"
   },
   {
    "duration": 9,
    "start_time": "2023-02-13T06:30:54.465Z"
   },
   {
    "duration": 304,
    "start_time": "2023-02-13T06:30:54.475Z"
   },
   {
    "duration": 291,
    "start_time": "2023-02-13T06:30:54.780Z"
   },
   {
    "duration": 13,
    "start_time": "2023-02-13T06:30:55.072Z"
   },
   {
    "duration": 28,
    "start_time": "2023-02-13T06:30:55.086Z"
   },
   {
    "duration": 210,
    "start_time": "2023-02-13T06:30:55.116Z"
   },
   {
    "duration": 347,
    "start_time": "2023-02-13T06:30:55.328Z"
   },
   {
    "duration": 226,
    "start_time": "2023-02-13T06:30:55.676Z"
   },
   {
    "duration": 332,
    "start_time": "2023-02-13T06:30:55.904Z"
   },
   {
    "duration": 7,
    "start_time": "2023-02-13T06:30:56.238Z"
   },
   {
    "duration": 147,
    "start_time": "2023-02-13T06:30:56.246Z"
   },
   {
    "duration": 159,
    "start_time": "2023-02-13T06:30:56.395Z"
   },
   {
    "duration": 4,
    "start_time": "2023-02-13T06:30:56.556Z"
   },
   {
    "duration": 6,
    "start_time": "2023-02-13T06:30:56.561Z"
   },
   {
    "duration": 194,
    "start_time": "2023-02-13T06:30:56.569Z"
   },
   {
    "duration": 475,
    "start_time": "2023-02-13T06:30:56.765Z"
   },
   {
    "duration": 3,
    "start_time": "2023-02-13T06:30:57.242Z"
   },
   {
    "duration": 10,
    "start_time": "2023-02-13T06:30:57.247Z"
   },
   {
    "duration": 9,
    "start_time": "2023-02-13T06:30:57.258Z"
   },
   {
    "duration": 191,
    "start_time": "2023-02-13T06:30:57.268Z"
   },
   {
    "duration": 30,
    "start_time": "2023-02-13T06:30:57.461Z"
   },
   {
    "duration": 189,
    "start_time": "2023-02-13T06:30:57.493Z"
   },
   {
    "duration": 11,
    "start_time": "2023-02-13T06:30:57.684Z"
   },
   {
    "duration": 8,
    "start_time": "2023-02-13T06:30:57.709Z"
   },
   {
    "duration": 8,
    "start_time": "2023-02-13T06:30:57.719Z"
   },
   {
    "duration": 21,
    "start_time": "2023-02-13T06:30:57.729Z"
   },
   {
    "duration": 14,
    "start_time": "2023-02-13T06:30:57.752Z"
   }
  ],
  "kernelspec": {
   "display_name": "Python 3 (ipykernel)",
   "language": "python",
   "name": "python3"
  },
  "language_info": {
   "codemirror_mode": {
    "name": "ipython",
    "version": 3
   },
   "file_extension": ".py",
   "mimetype": "text/x-python",
   "name": "python",
   "nbconvert_exporter": "python",
   "pygments_lexer": "ipython3",
   "version": "3.9.13"
  },
  "toc": {
   "base_numbering": 1,
   "nav_menu": {},
   "number_sections": true,
   "sideBar": true,
   "skip_h1_title": true,
   "title_cell": "Содержание",
   "title_sidebar": "Contents",
   "toc_cell": true,
   "toc_position": {
    "height": "calc(100% - 180px)",
    "left": "10px",
    "top": "150px",
    "width": "303.542px"
   },
   "toc_section_display": true,
   "toc_window_display": true
  }
 },
 "nbformat": 4,
 "nbformat_minor": 5
}
